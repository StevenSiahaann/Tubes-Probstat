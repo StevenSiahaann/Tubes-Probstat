{
 "cells": [
  {
   "cell_type": "markdown",
   "metadata": {},
   "source": [
    "# Tugas Besar Probabilitas dan Statistika IF2220\n",
    "\n",
    "Steven Gianmarg Haposan Siahaan-13520145\n",
    "\n",
    "Ken Kalang Alqayubi-13520010"
   ]
  },
  {
   "cell_type": "code",
   "execution_count": 1,
   "metadata": {},
   "outputs": [],
   "source": [
    "import pandas as pd\n",
    "import matplotlib.pyplot as plt\n",
    "import seaborn as sns\n",
    "import numpy as np\n",
    "import math\n",
    "from scipy.stats import normaltest\n",
    "from scipy.stats import ttest_1samp\n",
    "from scipy import stats\n",
    "from scipy.stats import norm\n",
    "from statsmodels.stats import weightstats as stests\n",
    "from statsmodels.stats.proportion import proportions_ztest\n",
    "#read file\n",
    "path=r\"water_potability.csv\"\n",
    "df = pd.read_csv(path,names=[\"id\", \"pH\", \"Hardness\", \"Solids\", \"Chloramines\", \"Sulfate\", \"Conductivity\", \"OrganicCarbon\", \"Trihalomethanes\", \"Turbidity\", \"Potability\"])\n",
    "\n",
    "# Mendapatkan jumlah baris dan kolom pada data\n",
    "baris,kolom = df.shape\n",
    "#Menampilkan data\n",
    "#print(df)\n"
   ]
  },
  {
   "cell_type": "markdown",
   "metadata": {},
   "source": [
    "# Nomor 1\n",
    "Menulis deskripsi statistika (Descriptive Statistics) dari semua kolom pada data yang bersifat \n",
    "numerik, terdiri dari mean, median, modus, standar deviasi, variansi, range, nilai minimum,\n",
    "maksimum, kuartil, IQR, skewness dan kurtosis. Boleh juga ditambahkan deskripsi lain."
   ]
  },
  {
   "cell_type": "markdown",
   "metadata": {},
   "source": [
    "# Seluruh deskripsi kecuali modus"
   ]
  },
  {
   "cell_type": "code",
   "execution_count": 64,
   "metadata": {},
   "outputs": [
    {
     "data": {
      "text/html": [
       "<div>\n",
       "<style scoped>\n",
       "    .dataframe tbody tr th:only-of-type {\n",
       "        vertical-align: middle;\n",
       "    }\n",
       "\n",
       "    .dataframe tbody tr th {\n",
       "        vertical-align: top;\n",
       "    }\n",
       "\n",
       "    .dataframe thead th {\n",
       "        text-align: right;\n",
       "    }\n",
       "</style>\n",
       "<table border=\"1\" class=\"dataframe\">\n",
       "  <thead>\n",
       "    <tr style=\"text-align: right;\">\n",
       "      <th></th>\n",
       "      <th>id</th>\n",
       "      <th>pH</th>\n",
       "      <th>Hardness</th>\n",
       "      <th>Solids</th>\n",
       "      <th>Chloramines</th>\n",
       "      <th>Sulfate</th>\n",
       "      <th>Conductivity</th>\n",
       "      <th>OrganicCarbon</th>\n",
       "      <th>Trihalomethanes</th>\n",
       "      <th>Turbidity</th>\n",
       "      <th>Potability</th>\n",
       "    </tr>\n",
       "  </thead>\n",
       "  <tbody>\n",
       "    <tr>\n",
       "      <th>count</th>\n",
       "      <td>2010.00000</td>\n",
       "      <td>2010.000000</td>\n",
       "      <td>2010.000000</td>\n",
       "      <td>2.010000e+03</td>\n",
       "      <td>2010.000000</td>\n",
       "      <td>2010.000000</td>\n",
       "      <td>2010.000000</td>\n",
       "      <td>2010.000000</td>\n",
       "      <td>2010.000000</td>\n",
       "      <td>2010.000000</td>\n",
       "      <td>2010.000000</td>\n",
       "    </tr>\n",
       "    <tr>\n",
       "      <th>mean</th>\n",
       "      <td>1005.50000</td>\n",
       "      <td>7.087193</td>\n",
       "      <td>195.969209</td>\n",
       "      <td>2.190467e+04</td>\n",
       "      <td>7.134322</td>\n",
       "      <td>333.211376</td>\n",
       "      <td>426.476708</td>\n",
       "      <td>14.357940</td>\n",
       "      <td>66.400717</td>\n",
       "      <td>3.969497</td>\n",
       "      <td>0.402985</td>\n",
       "    </tr>\n",
       "    <tr>\n",
       "      <th>std</th>\n",
       "      <td>580.38134</td>\n",
       "      <td>1.572803</td>\n",
       "      <td>32.643166</td>\n",
       "      <td>8.625398e+03</td>\n",
       "      <td>1.585214</td>\n",
       "      <td>41.211111</td>\n",
       "      <td>80.701872</td>\n",
       "      <td>3.325770</td>\n",
       "      <td>16.081109</td>\n",
       "      <td>0.780471</td>\n",
       "      <td>0.490620</td>\n",
       "    </tr>\n",
       "    <tr>\n",
       "      <th>min</th>\n",
       "      <td>1.00000</td>\n",
       "      <td>0.227499</td>\n",
       "      <td>73.492234</td>\n",
       "      <td>3.209426e+02</td>\n",
       "      <td>1.390871</td>\n",
       "      <td>129.000000</td>\n",
       "      <td>201.619737</td>\n",
       "      <td>2.200000</td>\n",
       "      <td>8.577013</td>\n",
       "      <td>1.450000</td>\n",
       "      <td>0.000000</td>\n",
       "    </tr>\n",
       "    <tr>\n",
       "      <th>25%</th>\n",
       "      <td>503.25000</td>\n",
       "      <td>6.090785</td>\n",
       "      <td>176.740657</td>\n",
       "      <td>1.561441e+04</td>\n",
       "      <td>6.138326</td>\n",
       "      <td>307.626986</td>\n",
       "      <td>366.619219</td>\n",
       "      <td>12.122530</td>\n",
       "      <td>55.949993</td>\n",
       "      <td>3.442882</td>\n",
       "      <td>0.000000</td>\n",
       "    </tr>\n",
       "    <tr>\n",
       "      <th>50%</th>\n",
       "      <td>1005.50000</td>\n",
       "      <td>7.029490</td>\n",
       "      <td>197.203525</td>\n",
       "      <td>2.092688e+04</td>\n",
       "      <td>7.142014</td>\n",
       "      <td>332.214113</td>\n",
       "      <td>423.438372</td>\n",
       "      <td>14.323286</td>\n",
       "      <td>66.482041</td>\n",
       "      <td>3.967374</td>\n",
       "      <td>0.000000</td>\n",
       "    </tr>\n",
       "    <tr>\n",
       "      <th>75%</th>\n",
       "      <td>1507.75000</td>\n",
       "      <td>8.053006</td>\n",
       "      <td>216.447589</td>\n",
       "      <td>2.717053e+04</td>\n",
       "      <td>8.109933</td>\n",
       "      <td>359.268147</td>\n",
       "      <td>482.209772</td>\n",
       "      <td>16.683562</td>\n",
       "      <td>77.294613</td>\n",
       "      <td>4.514663</td>\n",
       "      <td>1.000000</td>\n",
       "    </tr>\n",
       "    <tr>\n",
       "      <th>max</th>\n",
       "      <td>2010.00000</td>\n",
       "      <td>14.000000</td>\n",
       "      <td>317.338124</td>\n",
       "      <td>5.648867e+04</td>\n",
       "      <td>13.127000</td>\n",
       "      <td>481.030642</td>\n",
       "      <td>753.342620</td>\n",
       "      <td>27.006707</td>\n",
       "      <td>124.000000</td>\n",
       "      <td>6.494749</td>\n",
       "      <td>1.000000</td>\n",
       "    </tr>\n",
       "    <tr>\n",
       "      <th>median</th>\n",
       "      <td>1005.50000</td>\n",
       "      <td>7.029490</td>\n",
       "      <td>197.203525</td>\n",
       "      <td>2.092688e+04</td>\n",
       "      <td>7.142014</td>\n",
       "      <td>332.214113</td>\n",
       "      <td>423.438372</td>\n",
       "      <td>14.323286</td>\n",
       "      <td>66.482041</td>\n",
       "      <td>3.967374</td>\n",
       "      <td>0.000000</td>\n",
       "    </tr>\n",
       "    <tr>\n",
       "      <th>variance</th>\n",
       "      <td>336842.50000</td>\n",
       "      <td>2.473709</td>\n",
       "      <td>1065.576277</td>\n",
       "      <td>7.439749e+07</td>\n",
       "      <td>2.512904</td>\n",
       "      <td>1698.355672</td>\n",
       "      <td>6512.792113</td>\n",
       "      <td>11.060746</td>\n",
       "      <td>258.602066</td>\n",
       "      <td>0.609135</td>\n",
       "      <td>0.240708</td>\n",
       "    </tr>\n",
       "    <tr>\n",
       "      <th>range</th>\n",
       "      <td>2009.00000</td>\n",
       "      <td>13.772501</td>\n",
       "      <td>243.845890</td>\n",
       "      <td>5.616773e+04</td>\n",
       "      <td>11.736129</td>\n",
       "      <td>352.030642</td>\n",
       "      <td>551.722883</td>\n",
       "      <td>24.806707</td>\n",
       "      <td>115.422987</td>\n",
       "      <td>5.044749</td>\n",
       "      <td>1.000000</td>\n",
       "    </tr>\n",
       "    <tr>\n",
       "      <th>IQR</th>\n",
       "      <td>1004.50000</td>\n",
       "      <td>1.962221</td>\n",
       "      <td>39.706932</td>\n",
       "      <td>1.155612e+04</td>\n",
       "      <td>1.971607</td>\n",
       "      <td>51.641161</td>\n",
       "      <td>115.590553</td>\n",
       "      <td>4.561031</td>\n",
       "      <td>21.344620</td>\n",
       "      <td>1.071781</td>\n",
       "      <td>1.000000</td>\n",
       "    </tr>\n",
       "    <tr>\n",
       "      <th>skewness</th>\n",
       "      <td>0.00000</td>\n",
       "      <td>0.048535</td>\n",
       "      <td>-0.085321</td>\n",
       "      <td>5.910114e-01</td>\n",
       "      <td>0.013003</td>\n",
       "      <td>-0.045728</td>\n",
       "      <td>0.268012</td>\n",
       "      <td>-0.020220</td>\n",
       "      <td>-0.051383</td>\n",
       "      <td>-0.032266</td>\n",
       "      <td>0.395873</td>\n",
       "    </tr>\n",
       "    <tr>\n",
       "      <th>kurtosis</th>\n",
       "      <td>-1.20000</td>\n",
       "      <td>0.626904</td>\n",
       "      <td>0.525480</td>\n",
       "      <td>3.373203e-01</td>\n",
       "      <td>0.549782</td>\n",
       "      <td>0.786854</td>\n",
       "      <td>-0.237206</td>\n",
       "      <td>0.031018</td>\n",
       "      <td>0.223017</td>\n",
       "      <td>-0.049831</td>\n",
       "      <td>-1.845122</td>\n",
       "    </tr>\n",
       "  </tbody>\n",
       "</table>\n",
       "</div>"
      ],
      "text/plain": [
       "                    id           pH     Hardness        Solids  Chloramines  \\\n",
       "count       2010.00000  2010.000000  2010.000000  2.010000e+03  2010.000000   \n",
       "mean        1005.50000     7.087193   195.969209  2.190467e+04     7.134322   \n",
       "std          580.38134     1.572803    32.643166  8.625398e+03     1.585214   \n",
       "min            1.00000     0.227499    73.492234  3.209426e+02     1.390871   \n",
       "25%          503.25000     6.090785   176.740657  1.561441e+04     6.138326   \n",
       "50%         1005.50000     7.029490   197.203525  2.092688e+04     7.142014   \n",
       "75%         1507.75000     8.053006   216.447589  2.717053e+04     8.109933   \n",
       "max         2010.00000    14.000000   317.338124  5.648867e+04    13.127000   \n",
       "median      1005.50000     7.029490   197.203525  2.092688e+04     7.142014   \n",
       "variance  336842.50000     2.473709  1065.576277  7.439749e+07     2.512904   \n",
       "range       2009.00000    13.772501   243.845890  5.616773e+04    11.736129   \n",
       "IQR         1004.50000     1.962221    39.706932  1.155612e+04     1.971607   \n",
       "skewness       0.00000     0.048535    -0.085321  5.910114e-01     0.013003   \n",
       "kurtosis      -1.20000     0.626904     0.525480  3.373203e-01     0.549782   \n",
       "\n",
       "              Sulfate  Conductivity  OrganicCarbon  Trihalomethanes  \\\n",
       "count     2010.000000   2010.000000    2010.000000      2010.000000   \n",
       "mean       333.211376    426.476708      14.357940        66.400717   \n",
       "std         41.211111     80.701872       3.325770        16.081109   \n",
       "min        129.000000    201.619737       2.200000         8.577013   \n",
       "25%        307.626986    366.619219      12.122530        55.949993   \n",
       "50%        332.214113    423.438372      14.323286        66.482041   \n",
       "75%        359.268147    482.209772      16.683562        77.294613   \n",
       "max        481.030642    753.342620      27.006707       124.000000   \n",
       "median     332.214113    423.438372      14.323286        66.482041   \n",
       "variance  1698.355672   6512.792113      11.060746       258.602066   \n",
       "range      352.030642    551.722883      24.806707       115.422987   \n",
       "IQR         51.641161    115.590553       4.561031        21.344620   \n",
       "skewness    -0.045728      0.268012      -0.020220        -0.051383   \n",
       "kurtosis     0.786854     -0.237206       0.031018         0.223017   \n",
       "\n",
       "            Turbidity   Potability  \n",
       "count     2010.000000  2010.000000  \n",
       "mean         3.969497     0.402985  \n",
       "std          0.780471     0.490620  \n",
       "min          1.450000     0.000000  \n",
       "25%          3.442882     0.000000  \n",
       "50%          3.967374     0.000000  \n",
       "75%          4.514663     1.000000  \n",
       "max          6.494749     1.000000  \n",
       "median       3.967374     0.000000  \n",
       "variance     0.609135     0.240708  \n",
       "range        5.044749     1.000000  \n",
       "IQR          1.071781     1.000000  \n",
       "skewness    -0.032266     0.395873  \n",
       "kurtosis    -0.049831    -1.845122  "
      ]
     },
     "execution_count": 64,
     "metadata": {},
     "output_type": "execute_result"
    }
   ],
   "source": [
    "deskripsi = df.describe()\n",
    "deskripsiadd = deskripsi.append(df.median(), ignore_index=True)\n",
    "deskripsiadd = deskripsiadd.append(df.var(), ignore_index=True)\n",
    "deskripsiadd = deskripsiadd.append(df.max()-df.min(), ignore_index=True)\n",
    "deskripsiadd = deskripsiadd.append(df.quantile(0.75)-df.quantile(0.25), ignore_index=True)\n",
    "deskripsiadd = deskripsiadd.append(df.skew(), ignore_index=True)\n",
    "deskripsiadd = deskripsiadd.append(df.kurt(), ignore_index=True)\n",
    "deskripsiadd.index = ['count','mean','std','min','25%','50%','75%','max','median','variance','range','IQR','skewness','kurtosis']\n",
    "deskripsiadd"
   ]
  },
  {
   "cell_type": "markdown",
   "metadata": {},
   "source": [
    "# Deskripsi Modus"
   ]
  },
  {
   "cell_type": "code",
   "execution_count": 65,
   "metadata": {},
   "outputs": [
    {
     "name": "stdout",
     "output_type": "stream",
     "text": [
      "Modus id: Semua data muncul sekali\n",
      "\n",
      "Modus pH: Semua data muncul sekali\n",
      "\n",
      "Modus Hardness: Semua data muncul sekali\n",
      "\n",
      "Modus Solids: Semua data muncul sekali\n",
      "\n",
      "Modus Chloramines: Semua data muncul sekali\n",
      "\n",
      "Modus Sulfate: Semua data muncul sekali\n",
      "\n",
      "Modus Conductivity: Semua data muncul sekali\n",
      "\n",
      "Modus OrganicCarbon: Semua data muncul sekali\n",
      "\n",
      "Modus Trihalomethanes: Semua data muncul sekali\n",
      "\n",
      "Modus Turbidity: Semua data muncul sekali\n",
      "\n",
      "Modus Potability: 0\n",
      "\n"
     ]
    }
   ],
   "source": [
    "for i in df.columns:\n",
    "  mod = df[i].mode()\n",
    "  print(\"Modus \" + i + \": \", end=\"\")\n",
    "  if(len(mod) != 2010): #jika tidak semua modus\n",
    "    for j in range(len(mod)):\n",
    "      if j != len(mod) -1:\n",
    "        print(mod[j], end= \", \")\n",
    "      else:\n",
    "        print(mod[j])\n",
    "  else:\n",
    "    print(\"Semua data muncul sekali\") #semua data unik, semua modus\n",
    "  print()"
   ]
  },
  {
   "cell_type": "markdown",
   "metadata": {},
   "source": [
    "# Notes\n",
    "Tabel di bawah menampilkan modus dari data untuk setiap kolom. \n",
    "Terdapat 3 kemungkinan modus :\n",
    "1. Terdapat lebih dari 1 data yang memiliki nilai kemunculan sama,sehingga modus lebih dari 1\n",
    "2. Terdapat kolom yang seluruh datanyanya merupakan data unik,sehingga seluruh datanya ditampilkan(Pada tabel dibawah akan ditampilkan 20 data)\n",
    "3. Hanya ada 1 nilai modus\n",
    "4. Pada tabel ini terdapat nilai NaN,karena tabel \"memaksakan\" untuk memunculkan 10 baris, padahal ada beberapa kolom yang data modusnya tidak mencapai 10."
   ]
  },
  {
   "cell_type": "code",
   "execution_count": 66,
   "metadata": {},
   "outputs": [
    {
     "data": {
      "text/html": [
       "<div>\n",
       "<style scoped>\n",
       "    .dataframe tbody tr th:only-of-type {\n",
       "        vertical-align: middle;\n",
       "    }\n",
       "\n",
       "    .dataframe tbody tr th {\n",
       "        vertical-align: top;\n",
       "    }\n",
       "\n",
       "    .dataframe thead th {\n",
       "        text-align: right;\n",
       "    }\n",
       "</style>\n",
       "<table border=\"1\" class=\"dataframe\">\n",
       "  <thead>\n",
       "    <tr style=\"text-align: right;\">\n",
       "      <th></th>\n",
       "      <th>id</th>\n",
       "      <th>pH</th>\n",
       "      <th>Hardness</th>\n",
       "      <th>Solids</th>\n",
       "      <th>Chloramines</th>\n",
       "      <th>Sulfate</th>\n",
       "      <th>Conductivity</th>\n",
       "      <th>OrganicCarbon</th>\n",
       "      <th>Trihalomethanes</th>\n",
       "      <th>Turbidity</th>\n",
       "      <th>Potability</th>\n",
       "    </tr>\n",
       "  </thead>\n",
       "  <tbody>\n",
       "    <tr>\n",
       "      <th>0</th>\n",
       "      <td>1</td>\n",
       "      <td>0.227499</td>\n",
       "      <td>73.492234</td>\n",
       "      <td>320.942611</td>\n",
       "      <td>1.390871</td>\n",
       "      <td>129.000000</td>\n",
       "      <td>201.619737</td>\n",
       "      <td>2.200000</td>\n",
       "      <td>8.577013</td>\n",
       "      <td>1.450000</td>\n",
       "      <td>0.0</td>\n",
       "    </tr>\n",
       "    <tr>\n",
       "      <th>1</th>\n",
       "      <td>2</td>\n",
       "      <td>0.989912</td>\n",
       "      <td>77.459586</td>\n",
       "      <td>1198.943699</td>\n",
       "      <td>1.920271</td>\n",
       "      <td>180.206746</td>\n",
       "      <td>210.319182</td>\n",
       "      <td>4.371899</td>\n",
       "      <td>14.343161</td>\n",
       "      <td>1.492207</td>\n",
       "      <td>NaN</td>\n",
       "    </tr>\n",
       "    <tr>\n",
       "      <th>2</th>\n",
       "      <td>3</td>\n",
       "      <td>1.431782</td>\n",
       "      <td>81.710895</td>\n",
       "      <td>1351.906979</td>\n",
       "      <td>2.397985</td>\n",
       "      <td>182.397370</td>\n",
       "      <td>233.907965</td>\n",
       "      <td>4.466772</td>\n",
       "      <td>15.684877</td>\n",
       "      <td>1.496101</td>\n",
       "      <td>NaN</td>\n",
       "    </tr>\n",
       "    <tr>\n",
       "      <th>3</th>\n",
       "      <td>4</td>\n",
       "      <td>1.757037</td>\n",
       "      <td>94.091307</td>\n",
       "      <td>1372.091043</td>\n",
       "      <td>2.456014</td>\n",
       "      <td>187.170714</td>\n",
       "      <td>245.859632</td>\n",
       "      <td>4.861631</td>\n",
       "      <td>16.291505</td>\n",
       "      <td>1.680554</td>\n",
       "      <td>NaN</td>\n",
       "    </tr>\n",
       "    <tr>\n",
       "      <th>4</th>\n",
       "      <td>5</td>\n",
       "      <td>1.985383</td>\n",
       "      <td>94.812545</td>\n",
       "      <td>2552.962804</td>\n",
       "      <td>2.458609</td>\n",
       "      <td>187.424131</td>\n",
       "      <td>252.968328</td>\n",
       "      <td>4.966862</td>\n",
       "      <td>17.527765</td>\n",
       "      <td>1.812529</td>\n",
       "      <td>NaN</td>\n",
       "    </tr>\n",
       "    <tr>\n",
       "      <th>5</th>\n",
       "      <td>6</td>\n",
       "      <td>2.128531</td>\n",
       "      <td>94.908977</td>\n",
       "      <td>3413.081633</td>\n",
       "      <td>2.484380</td>\n",
       "      <td>192.033592</td>\n",
       "      <td>254.392306</td>\n",
       "      <td>5.159380</td>\n",
       "      <td>17.915723</td>\n",
       "      <td>1.844372</td>\n",
       "      <td>NaN</td>\n",
       "    </tr>\n",
       "    <tr>\n",
       "      <th>6</th>\n",
       "      <td>7</td>\n",
       "      <td>2.376768</td>\n",
       "      <td>97.280909</td>\n",
       "      <td>3640.734320</td>\n",
       "      <td>2.498597</td>\n",
       "      <td>203.444521</td>\n",
       "      <td>254.393276</td>\n",
       "      <td>5.188466</td>\n",
       "      <td>18.015272</td>\n",
       "      <td>1.872573</td>\n",
       "      <td>NaN</td>\n",
       "    </tr>\n",
       "    <tr>\n",
       "      <th>7</th>\n",
       "      <td>8</td>\n",
       "      <td>2.538116</td>\n",
       "      <td>98.452931</td>\n",
       "      <td>4111.785432</td>\n",
       "      <td>2.621268</td>\n",
       "      <td>205.935091</td>\n",
       "      <td>257.007718</td>\n",
       "      <td>5.196717</td>\n",
       "      <td>19.175175</td>\n",
       "      <td>1.910117</td>\n",
       "      <td>NaN</td>\n",
       "    </tr>\n",
       "    <tr>\n",
       "      <th>8</th>\n",
       "      <td>9</td>\n",
       "      <td>2.558103</td>\n",
       "      <td>98.771644</td>\n",
       "      <td>4168.196994</td>\n",
       "      <td>2.648390</td>\n",
       "      <td>206.247229</td>\n",
       "      <td>257.704179</td>\n",
       "      <td>5.218233</td>\n",
       "      <td>22.219327</td>\n",
       "      <td>1.917754</td>\n",
       "      <td>NaN</td>\n",
       "    </tr>\n",
       "    <tr>\n",
       "      <th>9</th>\n",
       "      <td>10</td>\n",
       "      <td>2.569244</td>\n",
       "      <td>100.457615</td>\n",
       "      <td>4304.492483</td>\n",
       "      <td>2.654491</td>\n",
       "      <td>207.890482</td>\n",
       "      <td>258.880209</td>\n",
       "      <td>5.315287</td>\n",
       "      <td>23.136611</td>\n",
       "      <td>1.961475</td>\n",
       "      <td>NaN</td>\n",
       "    </tr>\n",
       "    <tr>\n",
       "      <th>10</th>\n",
       "      <td>11</td>\n",
       "      <td>2.690831</td>\n",
       "      <td>100.806520</td>\n",
       "      <td>4343.356611</td>\n",
       "      <td>2.726766</td>\n",
       "      <td>209.471058</td>\n",
       "      <td>259.963763</td>\n",
       "      <td>5.512040</td>\n",
       "      <td>23.792950</td>\n",
       "      <td>1.964863</td>\n",
       "      <td>NaN</td>\n",
       "    </tr>\n",
       "    <tr>\n",
       "      <th>11</th>\n",
       "      <td>12</td>\n",
       "      <td>2.803563</td>\n",
       "      <td>106.380113</td>\n",
       "      <td>4425.426440</td>\n",
       "      <td>2.741712</td>\n",
       "      <td>214.460834</td>\n",
       "      <td>260.531758</td>\n",
       "      <td>5.537059</td>\n",
       "      <td>23.817020</td>\n",
       "      <td>1.986192</td>\n",
       "      <td>NaN</td>\n",
       "    </tr>\n",
       "    <tr>\n",
       "      <th>12</th>\n",
       "      <td>13</td>\n",
       "      <td>2.925174</td>\n",
       "      <td>107.341982</td>\n",
       "      <td>4466.257488</td>\n",
       "      <td>2.785718</td>\n",
       "      <td>219.148935</td>\n",
       "      <td>260.566164</td>\n",
       "      <td>5.567693</td>\n",
       "      <td>24.532773</td>\n",
       "      <td>2.004143</td>\n",
       "      <td>NaN</td>\n",
       "    </tr>\n",
       "    <tr>\n",
       "      <th>13</th>\n",
       "      <td>14</td>\n",
       "      <td>2.974429</td>\n",
       "      <td>107.383327</td>\n",
       "      <td>4544.841718</td>\n",
       "      <td>2.855790</td>\n",
       "      <td>219.553437</td>\n",
       "      <td>261.435215</td>\n",
       "      <td>5.871941</td>\n",
       "      <td>25.057375</td>\n",
       "      <td>2.010537</td>\n",
       "      <td>NaN</td>\n",
       "    </tr>\n",
       "    <tr>\n",
       "      <th>14</th>\n",
       "      <td>15</td>\n",
       "      <td>3.102076</td>\n",
       "      <td>110.865788</td>\n",
       "      <td>4728.650671</td>\n",
       "      <td>2.862535</td>\n",
       "      <td>223.235816</td>\n",
       "      <td>264.508083</td>\n",
       "      <td>5.914617</td>\n",
       "      <td>26.140863</td>\n",
       "      <td>2.010729</td>\n",
       "      <td>NaN</td>\n",
       "    </tr>\n",
       "    <tr>\n",
       "      <th>15</th>\n",
       "      <td>16</td>\n",
       "      <td>3.148712</td>\n",
       "      <td>111.478582</td>\n",
       "      <td>5097.825850</td>\n",
       "      <td>2.866073</td>\n",
       "      <td>224.212503</td>\n",
       "      <td>265.251199</td>\n",
       "      <td>5.934588</td>\n",
       "      <td>27.095703</td>\n",
       "      <td>2.019042</td>\n",
       "      <td>NaN</td>\n",
       "    </tr>\n",
       "    <tr>\n",
       "      <th>16</th>\n",
       "      <td>17</td>\n",
       "      <td>3.230973</td>\n",
       "      <td>111.994028</td>\n",
       "      <td>5100.094173</td>\n",
       "      <td>2.981379</td>\n",
       "      <td>225.516628</td>\n",
       "      <td>266.357744</td>\n",
       "      <td>6.000391</td>\n",
       "      <td>27.559355</td>\n",
       "      <td>2.081425</td>\n",
       "      <td>NaN</td>\n",
       "    </tr>\n",
       "    <tr>\n",
       "      <th>17</th>\n",
       "      <td>18</td>\n",
       "      <td>3.344589</td>\n",
       "      <td>112.299485</td>\n",
       "      <td>5128.457646</td>\n",
       "      <td>2.993744</td>\n",
       "      <td>227.348460</td>\n",
       "      <td>267.801711</td>\n",
       "      <td>6.016337</td>\n",
       "      <td>28.566364</td>\n",
       "      <td>2.087080</td>\n",
       "      <td>NaN</td>\n",
       "    </tr>\n",
       "    <tr>\n",
       "      <th>18</th>\n",
       "      <td>19</td>\n",
       "      <td>3.388091</td>\n",
       "      <td>112.820254</td>\n",
       "      <td>5619.135558</td>\n",
       "      <td>3.016033</td>\n",
       "      <td>227.665635</td>\n",
       "      <td>268.440850</td>\n",
       "      <td>6.039669</td>\n",
       "      <td>28.682952</td>\n",
       "      <td>2.091787</td>\n",
       "      <td>NaN</td>\n",
       "    </tr>\n",
       "    <tr>\n",
       "      <th>19</th>\n",
       "      <td>20</td>\n",
       "      <td>3.410360</td>\n",
       "      <td>113.504698</td>\n",
       "      <td>5689.804405</td>\n",
       "      <td>3.117441</td>\n",
       "      <td>229.575561</td>\n",
       "      <td>269.013635</td>\n",
       "      <td>6.059608</td>\n",
       "      <td>28.770619</td>\n",
       "      <td>2.124759</td>\n",
       "      <td>NaN</td>\n",
       "    </tr>\n",
       "  </tbody>\n",
       "</table>\n",
       "</div>"
      ],
      "text/plain": [
       "    id        pH    Hardness       Solids  Chloramines     Sulfate  \\\n",
       "0    1  0.227499   73.492234   320.942611     1.390871  129.000000   \n",
       "1    2  0.989912   77.459586  1198.943699     1.920271  180.206746   \n",
       "2    3  1.431782   81.710895  1351.906979     2.397985  182.397370   \n",
       "3    4  1.757037   94.091307  1372.091043     2.456014  187.170714   \n",
       "4    5  1.985383   94.812545  2552.962804     2.458609  187.424131   \n",
       "5    6  2.128531   94.908977  3413.081633     2.484380  192.033592   \n",
       "6    7  2.376768   97.280909  3640.734320     2.498597  203.444521   \n",
       "7    8  2.538116   98.452931  4111.785432     2.621268  205.935091   \n",
       "8    9  2.558103   98.771644  4168.196994     2.648390  206.247229   \n",
       "9   10  2.569244  100.457615  4304.492483     2.654491  207.890482   \n",
       "10  11  2.690831  100.806520  4343.356611     2.726766  209.471058   \n",
       "11  12  2.803563  106.380113  4425.426440     2.741712  214.460834   \n",
       "12  13  2.925174  107.341982  4466.257488     2.785718  219.148935   \n",
       "13  14  2.974429  107.383327  4544.841718     2.855790  219.553437   \n",
       "14  15  3.102076  110.865788  4728.650671     2.862535  223.235816   \n",
       "15  16  3.148712  111.478582  5097.825850     2.866073  224.212503   \n",
       "16  17  3.230973  111.994028  5100.094173     2.981379  225.516628   \n",
       "17  18  3.344589  112.299485  5128.457646     2.993744  227.348460   \n",
       "18  19  3.388091  112.820254  5619.135558     3.016033  227.665635   \n",
       "19  20  3.410360  113.504698  5689.804405     3.117441  229.575561   \n",
       "\n",
       "    Conductivity  OrganicCarbon  Trihalomethanes  Turbidity  Potability  \n",
       "0     201.619737       2.200000         8.577013   1.450000         0.0  \n",
       "1     210.319182       4.371899        14.343161   1.492207         NaN  \n",
       "2     233.907965       4.466772        15.684877   1.496101         NaN  \n",
       "3     245.859632       4.861631        16.291505   1.680554         NaN  \n",
       "4     252.968328       4.966862        17.527765   1.812529         NaN  \n",
       "5     254.392306       5.159380        17.915723   1.844372         NaN  \n",
       "6     254.393276       5.188466        18.015272   1.872573         NaN  \n",
       "7     257.007718       5.196717        19.175175   1.910117         NaN  \n",
       "8     257.704179       5.218233        22.219327   1.917754         NaN  \n",
       "9     258.880209       5.315287        23.136611   1.961475         NaN  \n",
       "10    259.963763       5.512040        23.792950   1.964863         NaN  \n",
       "11    260.531758       5.537059        23.817020   1.986192         NaN  \n",
       "12    260.566164       5.567693        24.532773   2.004143         NaN  \n",
       "13    261.435215       5.871941        25.057375   2.010537         NaN  \n",
       "14    264.508083       5.914617        26.140863   2.010729         NaN  \n",
       "15    265.251199       5.934588        27.095703   2.019042         NaN  \n",
       "16    266.357744       6.000391        27.559355   2.081425         NaN  \n",
       "17    267.801711       6.016337        28.566364   2.087080         NaN  \n",
       "18    268.440850       6.039669        28.682952   2.091787         NaN  \n",
       "19    269.013635       6.059608        28.770619   2.124759         NaN  "
      ]
     },
     "execution_count": 66,
     "metadata": {},
     "output_type": "execute_result"
    }
   ],
   "source": [
    "df.mode().head(20)"
   ]
  },
  {
   "cell_type": "markdown",
   "metadata": {},
   "source": [
    "# Nomor 2\n",
    "Membuat Visualisasi plot distribusi, dalam bentuk histogram dan boxplot untuk setiap\n",
    "kolom numerik. Berikan uraian penjelasan kondisi setiap kolom berdasarkan kedua plot\n",
    "tersebut."
   ]
  },
  {
   "cell_type": "code",
   "execution_count": 25,
   "metadata": {},
   "outputs": [],
   "source": [
    "def nomor2(nama):\n",
    "    df1=df[nama]\n",
    "    print(\"Histogram :\")\n",
    "    df1.plot(kind='hist',edgecolor='black', color='skyblue', title=\"Histogram \"+nama, grid=True)\n",
    "    plt.show()\n",
    "    print(\"Boxplot :\")\n",
    "    df.boxplot(column=nama)\n",
    "    plt.show()\n",
    "    skew = df[nama].skew()\n",
    "    kurt = df[nama].kurtosis()\n",
    "    q1 = float(df[nama].quantile(0.25))\n",
    "    median = df[nama].quantile(0.50)\n",
    "    q3 = float(df[nama].quantile(0.75))\n",
    "    mean = df[nama].mean()\n",
    "    print(\"Data statistik\")\n",
    "    print(\"Skewness  :\",skew)\n",
    "    print(\"Kurtosis  :\",kurt)\n",
    "    print(\"Kuartil 1 :\", q1)\n",
    "    print(\"Median    :\", median)\n",
    "    print(\"Kuartil 3 :\",q3)\n",
    "    print(\"-------------\")\n"
   ]
  },
  {
   "cell_type": "code",
   "execution_count": 26,
   "metadata": {},
   "outputs": [
    {
     "name": "stdout",
     "output_type": "stream",
     "text": [
      "Histogram :\n"
     ]
    },
    {
     "data": {
      "image/png": "[encoded data removed]",
      "text/plain": [
       "<Figure size 432x288 with 1 Axes>"
      ]
     },
     "metadata": {
      "needs_background": "light"
     },
     "output_type": "display_data"
    },
    {
     "name": "stdout",
     "output_type": "stream",
     "text": [
      "Boxplot :\n"
     ]
    },
    {
     "data": {
      "image/png": "[encoded data removed]",
      "text/plain": [
       "<Figure size 432x288 with 1 Axes>"
      ]
     },
     "metadata": {
      "needs_background": "light"
     },
     "output_type": "display_data"
    },
    {
     "name": "stdout",
     "output_type": "stream",
     "text": [
      "Data statistik\n",
      "Skewness  : 0.0\n",
      "Kurtosis  : -1.2\n",
      "Kuartil 1 : 503.25\n",
      "Median    : 1005.5\n",
      "Kuartil 3 : 1507.75\n",
      "-------------\n"
     ]
    }
   ],
   "source": [
    "nomor2('id')"
   ]
  },
  {
   "cell_type": "markdown",
   "metadata": {},
   "source": [
    "# Penjelasan\n",
    "Berdasarkan histogram dan boxplot dari data ID diatas,dapat disimpulkan bahwa data id tidak memiliki outliers.Pada distribusi datanya juga dapat dilihat bahwa data ID memiliki persebaran yang merata. Sehingga dapat dikatakan sebagai No Skew atau Normal,selain itu juga didapatkan descriptive data statistik yakni skewness 0.0).\n",
    "\n",
    "Keruncingan grafik dapat diketahui dari nilai kurtosis kolom yang bernilai −1.2 . Terdapat banyak nilai ekstrem bawah, sehingga distribusi disebut platykurtic distribution.\n"
   ]
  },
  {
   "cell_type": "code",
   "execution_count": 28,
   "metadata": {},
   "outputs": [
    {
     "name": "stdout",
     "output_type": "stream",
     "text": [
      "Histogram :\n"
     ]
    },
    {
     "data": {
      "image/png": "[encoded data removed]",
      "text/plain": [
       "<Figure size 432x288 with 1 Axes>"
      ]
     },
     "metadata": {
      "needs_background": "light"
     },
     "output_type": "display_data"
    },
    {
     "name": "stdout",
     "output_type": "stream",
     "text": [
      "Boxplot :\n"
     ]
    },
    {
     "data": {
      "image/png": "[encoded data removed]",
      "text/plain": [
       "<Figure size 432x288 with 1 Axes>"
      ]
     },
     "metadata": {
      "needs_background": "light"
     },
     "output_type": "display_data"
    },
    {
     "name": "stdout",
     "output_type": "stream",
     "text": [
      "Data statistik\n",
      "Skewness  : 0.04853451405270677\n",
      "Kurtosis  : 0.6269041256617065\n",
      "Kuartil 1 : 6.09078502142353\n",
      "Median    : 7.0294904554741855\n",
      "Kuartil 3 : 8.053006240791538\n",
      "-------------\n"
     ]
    }
   ],
   "source": [
    "nomor2('pH')"
   ]
  },
  {
   "cell_type": "markdown",
   "metadata": {},
   "source": [
    "# Penjelasan\n",
    "Berdasarkan data statistik pada kolom pH, didapat nilai skewness 0.048 sehingga dapat disimpulkan bahwa kolom bersifat symmetrically distributed.\n",
    "Berdasarkan histogram dan boxplot dari data pH diatas, dapat disimpulkan bahwa data pH memiliki banyak outliers dibawah nilai minimum dan juga banyak outliers diatas nilai maksimum. Selain itu pada distribusi datanya pada grafik, dapat dilihat bahwa data pH memiliki lebih banyak nilai yang lebih rendah. Sehingga dapat dikatakan sebagai Positively Skewed.\n",
    "Keruncingan grafik dapat diketahui dari nilai kurtosis kolom yang bernilai 0.627 . Terdapat banyak nilai ekstrem atas, sehingga distribusi disebut leptokurtic distribution."
   ]
  },
  {
   "cell_type": "code",
   "execution_count": 29,
   "metadata": {},
   "outputs": [
    {
     "name": "stdout",
     "output_type": "stream",
     "text": [
      "Histogram :\n"
     ]
    },
    {
     "data": {
      "image/png": "[encoded data removed]",
      "text/plain": [
       "<Figure size 432x288 with 1 Axes>"
      ]
     },
     "metadata": {
      "needs_background": "light"
     },
     "output_type": "display_data"
    },
    {
     "name": "stdout",
     "output_type": "stream",
     "text": [
      "Boxplot :\n"
     ]
    },
    {
     "data": {
      "image/png": "[encoded data removed]",
      "text/plain": [
       "<Figure size 432x288 with 1 Axes>"
      ]
     },
     "metadata": {
      "needs_background": "light"
     },
     "output_type": "display_data"
    },
    {
     "name": "stdout",
     "output_type": "stream",
     "text": [
      "Data statistik\n",
      "Skewness  : -0.0853210417286861\n",
      "Kurtosis  : 0.5254804942991407\n",
      "Kuartil 1 : 176.74065667669896\n",
      "Median    : 197.20352491941043\n",
      "Kuartil 3 : 216.4475886672716\n",
      "-------------\n"
     ]
    }
   ],
   "source": [
    "nomor2('Hardness')"
   ]
  },
  {
   "cell_type": "markdown",
   "metadata": {},
   "source": [
    "# Penjelasan\n",
    "Berdasarkan data statistik pada kolom Hardness, didapat nilai skewness -0.085 sehingga dapat disimpulkan bahwa kolom bersifat symmetrically distributed.\n",
    "Berdasarkan histogram dan boxplot dari data Hardness diatas, dapat disimpulkan bahwa data Hardness memiliki banyak outliers dibawah nilai minimum dan juga banyak outliers diatas nilai maksimum. Selain itu pada distribusi datanya pada grafik, dapat dilihat bahwa data Hardness memiliki lebih banyak nilai yang lebih tinggi. Sehingga dapat dikatakan sebagai Negatively Skewed.\n",
    "Keruncingan grafik dapat diketahui dari nilai kurtosis kolom yang bernilai 0.525 . Terdapat banyak nilai ekstrem atas, sehingga distribusi disebut leptokurtic distribution"
   ]
  },
  {
   "cell_type": "code",
   "execution_count": 30,
   "metadata": {},
   "outputs": [
    {
     "name": "stdout",
     "output_type": "stream",
     "text": [
      "Histogram :\n"
     ]
    },
    {
     "data": {
      "image/png": "[encoded data removed]",
      "text/plain": [
       "<Figure size 432x288 with 1 Axes>"
      ]
     },
     "metadata": {
      "needs_background": "light"
     },
     "output_type": "display_data"
    },
    {
     "name": "stdout",
     "output_type": "stream",
     "text": [
      "Boxplot :\n"
     ]
    },
    {
     "data": {
      "image/png": "[encoded data removed]",
      "text/plain": [
       "<Figure size 432x288 with 1 Axes>"
      ]
     },
     "metadata": {
      "needs_background": "light"
     },
     "output_type": "display_data"
    },
    {
     "name": "stdout",
     "output_type": "stream",
     "text": [
      "Data statistik\n",
      "Skewness  : 0.5910113724580435\n",
      "Kurtosis  : 0.33732026745944976\n",
      "Kuartil 1 : 15614.412961614333\n",
      "Median    : 20926.88215534375\n",
      "Kuartil 3 : 27170.5346486036\n",
      "-------------\n"
     ]
    }
   ],
   "source": [
    "nomor2(\"Solids\")"
   ]
  },
  {
   "cell_type": "markdown",
   "metadata": {},
   "source": [
    "# Penjelasan\n",
    "Berdasarkan histogram dan boxplot dari data Solids diatas, dapat disimpulkan bahwa data Solids memiliki banyak outliers diatas nilai maksimum . Selain itu pada distribusi datanya, dapat dilihat bahwa data Solids memiliki lebih banyak nilai yang lebih rendah secara signifikan. Sehingga dapat dikatakan sebagai Positively Skewed(selain itu pada data statistik juga didapat nilai skewness bernilai 0.591).\n",
    "Keruncingan grafik dapat diketahui dari nilai kurtosis kolom yang bernilai 0.337 . Terdapat banyak nilai ekstrem atas, sehingga distribusi disebut leptokurtic distribution."
   ]
  },
  {
   "cell_type": "code",
   "execution_count": 31,
   "metadata": {},
   "outputs": [
    {
     "name": "stdout",
     "output_type": "stream",
     "text": [
      "Histogram :\n"
     ]
    },
    {
     "data": {
      "image/png": "[encoded data removed]",
      "text/plain": [
       "<Figure size 432x288 with 1 Axes>"
      ]
     },
     "metadata": {
      "needs_background": "light"
     },
     "output_type": "display_data"
    },
    {
     "name": "stdout",
     "output_type": "stream",
     "text": [
      "Boxplot :\n"
     ]
    },
    {
     "data": {
      "image/png": "[encoded data removed]",
      "text/plain": [
       "<Figure size 432x288 with 1 Axes>"
      ]
     },
     "metadata": {
      "needs_background": "light"
     },
     "output_type": "display_data"
    },
    {
     "name": "stdout",
     "output_type": "stream",
     "text": [
      "Data statistik\n",
      "Skewness  : 0.01300349777956952\n",
      "Kurtosis  : 0.5497821097667472\n",
      "Kuartil 1 : 6.138326387572855\n",
      "Median    : 7.142014304622665\n",
      "Kuartil 3 : 8.109933216133502\n",
      "-------------\n"
     ]
    }
   ],
   "source": [
    "nomor2(\"Chloramines\")"
   ]
  },
  {
   "cell_type": "markdown",
   "metadata": {},
   "source": [
    "# Penjelasan\n",
    "Berdasarkan data statistik pada kolom Chloramines, didapat nilai skewness 0.013 sehingga dapat disimpulkan bahwa kolom bersifat symmetrically distributed.\n",
    "Berdasarkan histogram dan boxplot dari data Chloramines diatas, dapat disimpulkan bahwa data Chloramines memiliki banyak outliers dibawah nilai minimum dan juga banyak outliers diatas nilai maksimum.  Selain itu pada distribusi datanya pada grafik, dapat dilihat bahwa data Chloramines memiliki lebih banyak nilai yang lebih rendah. Sehingga dapat dikatakan sebagai Positively Skewed.\n",
    "Keruncingan grafik dapat diketahui dari nilai kurtosis kolom yang bernilai 0.5498 . Terdapat banyak nilai ekstrem atas, sehingga distribusi disebut leptokurtic distribution."
   ]
  },
  {
   "cell_type": "code",
   "execution_count": 32,
   "metadata": {},
   "outputs": [
    {
     "name": "stdout",
     "output_type": "stream",
     "text": [
      "Histogram :\n"
     ]
    },
    {
     "data": {
      "image/png": "[encoded data removed]",
      "text/plain": [
       "<Figure size 432x288 with 1 Axes>"
      ]
     },
     "metadata": {
      "needs_background": "light"
     },
     "output_type": "display_data"
    },
    {
     "name": "stdout",
     "output_type": "stream",
     "text": [
      "Boxplot :\n"
     ]
    },
    {
     "data": {
      "image/png": "[encoded data removed]",
      "text/plain": [
       "<Figure size 432x288 with 1 Axes>"
      ]
     },
     "metadata": {
      "needs_background": "light"
     },
     "output_type": "display_data"
    },
    {
     "name": "stdout",
     "output_type": "stream",
     "text": [
      "Data statistik\n",
      "Skewness  : -0.04572780443653542\n",
      "Kurtosis  : 0.7868544988131596\n",
      "Kuartil 1 : 307.6269864860709\n",
      "Median    : 332.2141128069568\n",
      "Kuartil 3 : 359.2681473914155\n",
      "-------------\n"
     ]
    }
   ],
   "source": [
    "nomor2(\"Sulfate\")"
   ]
  },
  {
   "cell_type": "markdown",
   "metadata": {},
   "source": [
    "# Penjelasan\n",
    "Berdasarkan data statistik pada kolom Sulfate, didapat nilai skewness -0.0457 sehingga dapat disimpulkan bahwa kolom bersifat symmetrically distributed\n",
    "Berdasarkan histogram dan boxplot dari data Sulfate diatas, dapat disimpulkan bahwa data Sulfate memiliki banyak outliers dibawah nilai minimum dan juga banyak outliers diatas nilai maksimum.  Selain itu pada distribusi datanya pada grafik, dapat dilihat bahwa data Sulfate memiliki lebih banyak nilai yang lebih tinggi. Sehingga dapat dikatakan sebagai Negatively Skewed.\n",
    "Keruncingan grafik dapat diketahui dari nilai kurtosis kolom yang bernilai 0.7868 . Terdapat banyak nilai ekstrem atas, sehingga distribusi disebut leptokurtic distribution."
   ]
  },
  {
   "cell_type": "code",
   "execution_count": 33,
   "metadata": {},
   "outputs": [
    {
     "name": "stdout",
     "output_type": "stream",
     "text": [
      "Histogram :\n"
     ]
    },
    {
     "data": {
      "image/png": "[encoded data removed]",
      "text/plain": [
       "<Figure size 432x288 with 1 Axes>"
      ]
     },
     "metadata": {
      "needs_background": "light"
     },
     "output_type": "display_data"
    },
    {
     "name": "stdout",
     "output_type": "stream",
     "text": [
      "Boxplot :\n"
     ]
    },
    {
     "data": {
      "image/png": "[encoded data removed]",
      "text/plain": [
       "<Figure size 432x288 with 1 Axes>"
      ]
     },
     "metadata": {
      "needs_background": "light"
     },
     "output_type": "display_data"
    },
    {
     "name": "stdout",
     "output_type": "stream",
     "text": [
      "Data statistik\n",
      "Skewness  : 0.26801233302645305\n",
      "Kurtosis  : -0.23720600574806516\n",
      "Kuartil 1 : 366.6192192963244\n",
      "Median    : 423.43837202443706\n",
      "Kuartil 3 : 482.2097724598859\n",
      "-------------\n"
     ]
    }
   ],
   "source": [
    "nomor2(\"Conductivity\")"
   ]
  },
  {
   "cell_type": "markdown",
   "metadata": {},
   "source": [
    "# Penjelasan\n",
    "Berdasarkan data statistik pada kolom Conductivity, didapat nilai skewness 0.2680 sehingga dapat disimpulkan bahwa kolom bersifat symmetrically distributed\n",
    "Berdasarkan histogram dan boxplot dari data Conductivity diatas, dapat disimpulkan bahwa data Conductivity memiliki banyak outliers diatas nilai maksimum. Selain itu pada distribusi datanya pada grafik, dapat dilihat bahwa data Conductivity memiliki lebih banyak nilai yang lebih rendah. Sehingga dapat dikatakan sebagai Positively Skewed.\n",
    "Keruncingan grafik dapat diketahui dari nilai kurtosis kolom yang bernilai −0.2372 . Terdapat banyak nilai ekstrem bawah, sehingga distribusi disebut platykurtic distribution."
   ]
  },
  {
   "cell_type": "code",
   "execution_count": 34,
   "metadata": {},
   "outputs": [
    {
     "name": "stdout",
     "output_type": "stream",
     "text": [
      "Histogram :\n"
     ]
    },
    {
     "data": {
      "image/png": "[encoded data removed]",
      "text/plain": [
       "<Figure size 432x288 with 1 Axes>"
      ]
     },
     "metadata": {
      "needs_background": "light"
     },
     "output_type": "display_data"
    },
    {
     "name": "stdout",
     "output_type": "stream",
     "text": [
      "Boxplot :\n"
     ]
    },
    {
     "data": {
      "image/png": "[encoded data removed]",
      "text/plain": [
       "<Figure size 432x288 with 1 Axes>"
      ]
     },
     "metadata": {
      "needs_background": "light"
     },
     "output_type": "display_data"
    },
    {
     "name": "stdout",
     "output_type": "stream",
     "text": [
      "Data statistik\n",
      "Skewness  : -0.020219756291812333\n",
      "Kurtosis  : 0.031018388192251667\n",
      "Kuartil 1 : 12.122530374047729\n",
      "Median    : 14.323285610653329\n",
      "Kuartil 3 : 16.683561746173808\n",
      "-------------\n"
     ]
    }
   ],
   "source": [
    "nomor2(\"OrganicCarbon\")"
   ]
  },
  {
   "cell_type": "markdown",
   "metadata": {},
   "source": [
    "# Penjelasan\n",
    "Berdasarkan data statistik pada kolom OrganicCarbon, didapat nilai skewness -0.0202 sehingga dapat disimpulkan bahwa kolom bersifat symmetrically distributed\n",
    "Berdasarkan histogram dan boxplot dari data OrganicCarbon diatas, dapat disimpulkan bahwa data OrganicCarbon memiliki banyak outliers dibawah nilai minimum dan juga banyak outliers diatas nilai maksimum. Selain itu pada distribusi datanya pada grafik, dapat dilihat bahwa data OrganicCarbon memiliki lebih banyak nilai yang lebih tinggi. Sehingga dapat dikatakan sebagai Negatively Skewed.\n",
    "Keruncingan grafik dapat diketahui dari nilai kurtosis kolom yang bernilai 0.031 . Terdapat banyak nilai ekstrem atas, sehingga distribusi disebut leptokurtic distribution."
   ]
  },
  {
   "cell_type": "code",
   "execution_count": 35,
   "metadata": {},
   "outputs": [
    {
     "name": "stdout",
     "output_type": "stream",
     "text": [
      "Histogram :\n"
     ]
    },
    {
     "data": {
      "image/png": "[encoded data removed]",
      "text/plain": [
       "<Figure size 432x288 with 1 Axes>"
      ]
     },
     "metadata": {
      "needs_background": "light"
     },
     "output_type": "display_data"
    },
    {
     "name": "stdout",
     "output_type": "stream",
     "text": [
      "Boxplot :\n"
     ]
    },
    {
     "data": {
      "image/png": "[encoded data removed]",
      "text/plain": [
       "<Figure size 432x288 with 1 Axes>"
      ]
     },
     "metadata": {
      "needs_background": "light"
     },
     "output_type": "display_data"
    },
    {
     "name": "stdout",
     "output_type": "stream",
     "text": [
      "Data statistik\n",
      "Skewness  : -0.051382684516194765\n",
      "Kurtosis  : 0.2230167810639787\n",
      "Kuartil 1 : 55.94999302803187\n",
      "Median    : 66.48204080309809\n",
      "Kuartil 3 : 77.29461280606742\n",
      "-------------\n"
     ]
    }
   ],
   "source": [
    "nomor2(\"Trihalomethanes\")"
   ]
  },
  {
   "cell_type": "markdown",
   "metadata": {},
   "source": [
    "# Penjelasan\n",
    "Berdasarkan data statistik pada kolom Trihalomethanes, didapat nilai skewness -0.05139 sehingga dapat disimpulkan bahwa kolom bersifat symmetrically distributed\n",
    "Berdasarkan histogram dan boxplot dari data Trihalomethanes diatas, dapat disimpulkan bahwa data Trihalomethanes memiliki banyak outliers dibawah nilai minimum dan juga banyak outliers diatas nilai maksimum.  Selain itu pada distribusi datanya pada grafik, dapat dilihat bahwa data Trihalomethanes memiliki lebih banyak nilai yang lebih tinggi. Sehingga dapat dikatakan sebagai Negatively Skewed.\n",
    "\n",
    "Keruncingan grafik dapat diketahui dari nilai kurtosis kolom yang bernilai 0.223 . Terdapat banyak nilai ekstrem atas, sehingga distribusi disebut leptokurtic distribution."
   ]
  },
  {
   "cell_type": "code",
   "execution_count": 36,
   "metadata": {},
   "outputs": [
    {
     "name": "stdout",
     "output_type": "stream",
     "text": [
      "Histogram :\n"
     ]
    },
    {
     "data": {
      "image/png": "[encoded data removed]",
      "text/plain": [
       "<Figure size 432x288 with 1 Axes>"
      ]
     },
     "metadata": {
      "needs_background": "light"
     },
     "output_type": "display_data"
    },
    {
     "name": "stdout",
     "output_type": "stream",
     "text": [
      "Boxplot :\n"
     ]
    },
    {
     "data": {
      "image/png": "[encoded data removed]",
      "text/plain": [
       "<Figure size 432x288 with 1 Axes>"
      ]
     },
     "metadata": {
      "needs_background": "light"
     },
     "output_type": "display_data"
    },
    {
     "name": "stdout",
     "output_type": "stream",
     "text": [
      "Data statistik\n",
      "Skewness  : -0.032265979680192944\n",
      "Kurtosis  : -0.04983079694925108\n",
      "Kuartil 1 : 3.4428816235574393\n",
      "Median    : 3.967373963531836\n",
      "Kuartil 3 : 4.514662720201883\n",
      "-------------\n"
     ]
    }
   ],
   "source": [
    "nomor2(\"Turbidity\")"
   ]
  },
  {
   "cell_type": "markdown",
   "metadata": {},
   "source": [
    "# Penjelasan\n",
    "Berdasarkan data statistik pada kolom Turbidity, didapat nilai skewness -0.03226 sehingga dapat disimpulkan bahwa kolom bersifat symmetrically distributed\n",
    "Berdasarkan histogram dan boxplot dari data Turbidity diatas, dapat disimpulkan bahwa data Turbidity memiliki banyak outliers dibawah nilai minimum dan juga banyak outliers diatas nilai maksimum. Selain itu pada distribusi datanya pada grafik, dapat dilihat bahwa data Turbidity memiliki lebih banyak nilai yang lebih tinggi. Sehingga dapat dikatakan sebagai Negatively Skewed.\n",
    "Keruncingan grafik dapat diketahui dari nilai kurtosis kolom yang bernilai −0.04983 . Terdapat banyak nilai ekstrem bawah, sehingga distribusi disebut platykurtic distribution."
   ]
  },
  {
   "cell_type": "code",
   "execution_count": 37,
   "metadata": {},
   "outputs": [
    {
     "name": "stdout",
     "output_type": "stream",
     "text": [
      "Histogram :\n"
     ]
    },
    {
     "data": {
      "image/png": "[encoded data removed]",
      "text/plain": [
       "<Figure size 432x288 with 1 Axes>"
      ]
     },
     "metadata": {
      "needs_background": "light"
     },
     "output_type": "display_data"
    },
    {
     "name": "stdout",
     "output_type": "stream",
     "text": [
      "Boxplot :\n"
     ]
    },
    {
     "data": {
      "image/png": "[encoded data removed]",
      "text/plain": [
       "<Figure size 432x288 with 1 Axes>"
      ]
     },
     "metadata": {
      "needs_background": "light"
     },
     "output_type": "display_data"
    },
    {
     "name": "stdout",
     "output_type": "stream",
     "text": [
      "Data statistik\n",
      "Skewness  : 0.39587289143607485\n",
      "Kurtosis  : -1.8451215871809596\n",
      "Kuartil 1 : 0.0\n",
      "Median    : 0.0\n",
      "Kuartil 3 : 1.0\n",
      "-------------\n"
     ]
    }
   ],
   "source": [
    "nomor2(\"Potability\")"
   ]
  },
  {
   "cell_type": "markdown",
   "metadata": {},
   "source": [
    "# Penjelasan\n",
    "Berdasarkan data statistik pada kolom Potability, didapat nilai skewness 0.3958 sehingga dapat disimpulkan bahwa kolom bersifat symmetrically distributed\n",
    "Berdasarkan histogram dan boxplot dari data Potability diatas, dapat disimpulkan bahwa data Potability tidak memiliki outlier. Selain itu pada distribusi datanya pada grafik, dapat dilihat bahwa data Potability memiliki lebih banyak nilai yang lebih rendah. Sehingga dapat dikatakan sebagai Positively Skewed.\n",
    "Keruncingan grafik dapat diketahui dari nilai kurtosis kolom yang bernilai −1.8451 . Terdapat banyak nilai ekstrem bawah, sehingga distribusi disebut platykurtic distribution."
   ]
  },
  {
   "cell_type": "markdown",
   "metadata": {},
   "source": [
    "# Nomor 3\n",
    "Menentukan setiap kolom numerik berdistribusi normal atau tidak. Gunakan normality test\n",
    "yang dikaitkan dengan histogram plot."
   ]
  },
  {
   "cell_type": "raw",
   "metadata": {},
   "source": [
    "Normality test yang akan digunakan adalah D’Agostino-Pearson Omnibus Test. Dalam normality test ini, z1 dan z2 dapat dicari penyimpangannya dari normality berdasarkan skewness maupun kurtosis-nya. Null hypothesis (\n",
    "h0) mengasumsikan bahwa data tes adalah berdistribusi normal. Data tes yang dilakukan untuk soal ini adalah data untuk setiap kolom.\n",
    "K^2 =zs(g1)^2+zk(g2)^2\n",
    "Jika h0 (null hypothesis) benar, maka K^2 diaproksimasi terdistribusi secara X^2 (chi-squared) dengan 2 degrees of freedom (dua derajat kebebasan), di mana g1 dan g2 tidak independen, hanya berkolerasi, dan zs(g1) adalah hasil Skewness Agostino serta  zk(g2) adalah hasil Kurtosis Agostino.\n",
    "\n",
    "Untuk mempermudah pencarian nilai stat dan p dari hasil normality test, akan digunakan library scipy yang telah di import pada bagian awal. Selain itu digunakan juga library seaborn untuk mempermudah visualisasi data dengan menggunakan histogram dan kurva\n",
    "Terdapat dua kesimpulan yang dapat ditarik berdasarkan normality test, antara lain:\n",
    "1. Jika p>alfa maka h0 diterima, sehingga kolom tersebut dikatakan berdistribusi normal.\n",
    "2. Jika p<=alfa maka h0 ditolak, sehingga kolom tersebut tidak dapat dikatakan berdistribusi normal.\n",
    "Untuk setiap tes, akan digunakan nilai alfa=0.05."
   ]
  },
  {
   "cell_type": "code",
   "execution_count": 39,
   "metadata": {},
   "outputs": [],
   "source": [
    "def nomor3(nama):\n",
    "    sns.displot(df[nama])\n",
    "    statistic, p_val = stats.normaltest(df[nama])\n",
    "    alpha = 0.05\n",
    "    print(\"Nilai Stat:\" +str(statistic))\n",
    "    print(\"Nilai alpha:\" +str(alpha))\n",
    "    print(\"Nilai P : \"+str(p_val))\n",
    "    # jika p-value > alpha, maka distribusi normal\n",
    "    print(\"Kolom \"+nama,end=' ')\n",
    "    if p_val > alpha:\n",
    "        print(\"berdistribusi normal(p > 0.05).\")\n",
    "    else:\n",
    "        print(\"tidak berdistribusi normal(p < 0.05).\")"
   ]
  },
  {
   "cell_type": "code",
   "execution_count": 43,
   "metadata": {},
   "outputs": [
    {
     "name": "stdout",
     "output_type": "stream",
     "text": [
      "Nilai Stat:1615.9406511551238\n",
      "Nilai alpha:0.05\n",
      "Nilai P : 0.0\n",
      "Kolom id tidak berdistribusi normal(p < 0.05).\n"
     ]
    },
    {
     "data": {
      "image/png": "[encoded data removed]",
      "text/plain": [
       "<Figure size 360x360 with 1 Axes>"
      ]
     },
     "metadata": {
      "needs_background": "light"
     },
     "output_type": "display_data"
    }
   ],
   "source": [
    "nomor3('id')"
   ]
  },
  {
   "cell_type": "markdown",
   "metadata": {},
   "source": [
    "# Penjelasan\n",
    "Puncak yang \"lebar\" menandakan nilai kurtosis yang kecil. Kolom ID tidak berdistribusi normal."
   ]
  },
  {
   "cell_type": "code",
   "execution_count": 45,
   "metadata": {},
   "outputs": [
    {
     "name": "stdout",
     "output_type": "stream",
     "text": [
      "Nilai Stat:21.07561397386477\n",
      "Nilai alpha:0.05\n",
      "Nilai P : 2.651481334679772e-05\n",
      "Kolom pH tidak berdistribusi normal(p < 0.05).\n"
     ]
    },
    {
     "data": {
      "image/png": "[encoded data removed]",
      "text/plain": [
       "<Figure size 360x360 with 1 Axes>"
      ]
     },
     "metadata": {
      "needs_background": "light"
     },
     "output_type": "display_data"
    }
   ],
   "source": [
    "nomor3('pH')"
   ]
  },
  {
   "cell_type": "markdown",
   "metadata": {},
   "source": [
    "# Penjelasan \n",
    "Nilai skewness sangat kecil, oleh karena itu terlihat bahwa kurva seperti simetris.Kolom pH tidak berdistribusi normal."
   ]
  },
  {
   "cell_type": "code",
   "execution_count": 46,
   "metadata": {},
   "outputs": [
    {
     "name": "stdout",
     "output_type": "stream",
     "text": [
      "Nilai Stat:17.82901887877144\n",
      "Nilai alpha:0.05\n",
      "Nilai P : 0.00013442428699593801\n",
      "Kolom Hardness tidak berdistribusi normal(p < 0.05).\n"
     ]
    },
    {
     "data": {
      "image/png": "[encoded data removed]",
      "text/plain": [
       "<Figure size 360x360 with 1 Axes>"
      ]
     },
     "metadata": {
      "needs_background": "light"
     },
     "output_type": "display_data"
    }
   ],
   "source": [
    "nomor3('Hardness')"
   ]
  },
  {
   "cell_type": "markdown",
   "metadata": {},
   "source": [
    "# Penjelasan\n",
    "Nilai skewness sangat kecil, oleh karena itu terlihat bahwa kurva seperti simetris.Kolom Hardness tidak berdistribusi normal"
   ]
  },
  {
   "cell_type": "code",
   "execution_count": 47,
   "metadata": {},
   "outputs": [
    {
     "name": "stdout",
     "output_type": "stream",
     "text": [
      "Nilai Stat:109.05967430964711\n",
      "Nilai alpha:0.05\n",
      "Nilai P : 2.079661368874404e-24\n",
      "Kolom Solids tidak berdistribusi normal(p < 0.05).\n"
     ]
    },
    {
     "data": {
      "image/png": "[encoded data removed]",
      "text/plain": [
       "<Figure size 360x360 with 1 Axes>"
      ]
     },
     "metadata": {
      "needs_background": "light"
     },
     "output_type": "display_data"
    }
   ],
   "source": [
    "nomor3('Solids')"
   ]
  },
  {
   "cell_type": "markdown",
   "metadata": {},
   "source": [
    "# Penjelasan\n",
    "Histogram cenderung bersifat positive skewness.Kolom Solids  tidak berdistribusi normal."
   ]
  },
  {
   "cell_type": "code",
   "execution_count": 48,
   "metadata": {},
   "outputs": [
    {
     "name": "stdout",
     "output_type": "stream",
     "text": [
      "Nilai Stat:16.58423768677735\n",
      "Nilai alpha:0.05\n",
      "Nilai P : 0.0002504831654753917\n",
      "Kolom Chloramines tidak berdistribusi normal(p < 0.05).\n"
     ]
    },
    {
     "data": {
      "image/png": "[encoded data removed]",
      "text/plain": [
       "<Figure size 360x360 with 1 Axes>"
      ]
     },
     "metadata": {
      "needs_background": "light"
     },
     "output_type": "display_data"
    }
   ],
   "source": [
    "nomor3('Chloramines')"
   ]
  },
  {
   "cell_type": "markdown",
   "metadata": {},
   "source": [
    "# Penjelasan\n",
    "Histogram cenderung bersifat positive skewness.Kolom Chloramines tidak berdistribusi normal."
   ]
  },
  {
   "cell_type": "code",
   "execution_count": 49,
   "metadata": {},
   "outputs": [
    {
     "name": "stdout",
     "output_type": "stream",
     "text": [
      "Nilai Stat:29.261382438564677\n",
      "Nilai alpha:0.05\n",
      "Nilai P : 4.425593667801525e-07\n",
      "Kolom Sulfate tidak berdistribusi normal(p < 0.05).\n"
     ]
    },
    {
     "data": {
      "image/png": "[encoded data removed]",
      "text/plain": [
       "<Figure size 360x360 with 1 Axes>"
      ]
     },
     "metadata": {
      "needs_background": "light"
     },
     "output_type": "display_data"
    }
   ],
   "source": [
    "nomor3('Sulfate')"
   ]
  },
  {
   "cell_type": "markdown",
   "metadata": {},
   "source": [
    "# Penjelasan\n",
    "Histogram cenderung bersifat negative skewness. Kurtosis cenderung positif (kurva terlihat kurus). Kolom Sulfate tidak berdistribusi normal."
   ]
  },
  {
   "cell_type": "code",
   "execution_count": 50,
   "metadata": {},
   "outputs": [
    {
     "name": "stdout",
     "output_type": "stream",
     "text": [
      "Nilai Stat:29.277450488218\n",
      "Nilai alpha:0.05\n",
      "Nilai P : 4.3901807828785e-07\n",
      "Kolom Conductivity tidak berdistribusi normal(p < 0.05).\n"
     ]
    },
    {
     "data": {
      "image/png": "[encoded data removed]",
      "text/plain": [
       "<Figure size 360x360 with 1 Axes>"
      ]
     },
     "metadata": {
      "needs_background": "light"
     },
     "output_type": "display_data"
    }
   ],
   "source": [
    "nomor3('Conductivity')"
   ]
  },
  {
   "cell_type": "markdown",
   "metadata": {},
   "source": [
    "# Penjelasan\n",
    "Histogram cenderung bersifat positive skewness. Kurtosis cenderung negatif (kurva terlihat lebar). Kolom Conductivity tidak berdistribusi normal."
   ]
  },
  {
   "cell_type": "code",
   "execution_count": 51,
   "metadata": {
    "scrolled": false
   },
   "outputs": [
    {
     "name": "stdout",
     "output_type": "stream",
     "text": [
      "Nilai Stat:0.24988044381961066\n",
      "Nilai alpha:0.05\n",
      "Nilai P : 0.8825496581408321\n",
      "Kolom OrganicCarbon berdistribusi normal(p > 0.05).\n"
     ]
    },
    {
     "data": {
      "image/png": "[encoded data removed]",
      "text/plain": [
       "<Figure size 360x360 with 1 Axes>"
      ]
     },
     "metadata": {
      "needs_background": "light"
     },
     "output_type": "display_data"
    }
   ],
   "source": [
    "nomor3('OrganicCarbon')"
   ]
  },
  {
   "cell_type": "markdown",
   "metadata": {},
   "source": [
    "# Penjelasan\n",
    "Nilai skewness sangat kecil, oleh karena itu terlihat bahwa kurva seperti simetris.Kolom OrganicCarbon berdistribusi normal."
   ]
  },
  {
   "cell_type": "code",
   "execution_count": 52,
   "metadata": {},
   "outputs": [
    {
     "name": "stdout",
     "output_type": "stream",
     "text": [
      "Nilai Stat:4.5198206234869645\n",
      "Nilai alpha:0.05\n",
      "Nilai P : 0.1043598441875188\n",
      "Kolom Trihalomethanes berdistribusi normal(p > 0.05).\n"
     ]
    },
    {
     "data": {
      "image/png": "[encoded data removed]",
      "text/plain": [
       "<Figure size 360x360 with 1 Axes>"
      ]
     },
     "metadata": {
      "needs_background": "light"
     },
     "output_type": "display_data"
    }
   ],
   "source": [
    "nomor3('Trihalomethanes')"
   ]
  },
  {
   "cell_type": "markdown",
   "metadata": {},
   "source": [
    "# Penjelasan\n",
    "Nilai skewness sangat kecil, oleh karena itu terlihat bahwa kurva seperti simetris. Nilai kurtosis tidak terlalu menyimbang (terlalu \"kurus\" atau terlalu \"gendut\"). Kolom Trihalomethanes berdistribusi normal."
   ]
  },
  {
   "cell_type": "code",
   "execution_count": 53,
   "metadata": {},
   "outputs": [
    {
     "name": "stdout",
     "output_type": "stream",
     "text": [
      "Nilai Stat:0.5241021108552366\n",
      "Nilai alpha:0.05\n",
      "Nilai P : 0.7694717369961119\n",
      "Kolom Turbidity berdistribusi normal(p > 0.05).\n"
     ]
    },
    {
     "data": {
      "image/png": "[encoded data removed]",
      "text/plain": [
       "<Figure size 360x360 with 1 Axes>"
      ]
     },
     "metadata": {
      "needs_background": "light"
     },
     "output_type": "display_data"
    }
   ],
   "source": [
    "nomor3('Turbidity')"
   ]
  },
  {
   "cell_type": "markdown",
   "metadata": {},
   "source": [
    "# Penjelasan\n",
    "Nilai skewness sangat kecil, oleh karena itu terlihat bahwa kurva seperti simetris.Kurtosis bernilai negatif terlihat dari kurva yang relatif gendut. Kolom Turbidity berdistribusi normal."
   ]
  },
  {
   "cell_type": "code",
   "execution_count": 54,
   "metadata": {},
   "outputs": [
    {
     "name": "stdout",
     "output_type": "stream",
     "text": [
      "Nilai Stat:8042.891585411427\n",
      "Nilai alpha:0.05\n",
      "Nilai P : 0.0\n",
      "Kolom Potability tidak berdistribusi normal(p < 0.05).\n"
     ]
    },
    {
     "data": {
      "image/png": "[encoded data removed]",
      "text/plain": [
       "<Figure size 360x360 with 1 Axes>"
      ]
     },
     "metadata": {
      "needs_background": "light"
     },
     "output_type": "display_data"
    }
   ],
   "source": [
    "nomor3('Potability')"
   ]
  },
  {
   "cell_type": "markdown",
   "metadata": {},
   "source": [
    "# Penjelasan\n",
    "Terdapat dua puncak dengan tinggi yang berbeda. Tidak ada kecenderungan skewness. Namun, bentuk kurva tidak menyerupai bentuk bel, sehingga kolom Potability tidak berdistribusi normal."
   ]
  },
  {
   "cell_type": "markdown",
   "metadata": {},
   "source": [
    "#Terdapat 3 kolom yang memenuhi normality test, yaitu kolom OrganicCarbon,Trihalomethanes dan Turbidity. Namun, apabila ditinjau dari visualisasi plot distribusi, hanya kolom OrganicCarbon dan Turbidity yang membentuk atau menyerupai bel."
   ]
  },
  {
   "cell_type": "markdown",
   "metadata": {},
   "source": [
    "# Nomor 4\n",
    "Melakukan test hipotesis 1 sampel, dengan menuliskan 6 langkah testing dan menampilkan\n",
    "juga boxplotnya untuk kolom/bagian yang bersesuaian.\n",
    "\n",
    "1. Nilai Rata-rata pH di atas 7?\n",
    "2. Nilai Rata-rata Hardness tidak sama dengan 205?\n",
    "3. Nilai Rata-rata 100 baris pertama kolom Solids bukan 21900?\n",
    "4. Proporsi nilai Conductivity yang lebih dari 450, adalah tidak sama dengan 10%?\n",
    "5. Proporsi nilai Trihalomethanes yang kurang dari 40, adalah kurang dari 5%?"
   ]
  },
  {
   "cell_type": "markdown",
   "metadata": {},
   "source": [
    "# 4.a. Nilai Rata-rata pH di atas 7?"
   ]
  },
  {
   "cell_type": "code",
   "execution_count": 22,
   "metadata": {},
   "outputs": [
    {
     "name": "stdout",
     "output_type": "stream",
     "text": [
      "Nilai uji statistik : 2.485445147379887\n",
      "Nilai P : 0.006509872359240925\n",
      "Berdasarkan uji hipotesis menggunakan P-value,\n",
      "maka hipotesis nol H0 DITOLAK\n"
     ]
    },
    {
     "data": {
      "image/png": "[encoded data removed]",
      "text/plain": [
       "<Figure size 432x288 with 1 Axes>"
      ]
     },
     "metadata": {
      "needs_background": "light"
     },
     "output_type": "display_data"
    }
   ],
   "source": [
    "# Sampel yang diambil adalah seluruh populasinya.\n",
    "# a. Nilai Rata-Rata pH di atas 7?\n",
    "df1 = df[\"pH\"]\n",
    "# 1. Tentukan Hipotesis Nol, H0 : mean = 7\n",
    "# 2. Tentukan Hipotesis Alternatif, H1 : mean > 7\n",
    "# 3. Tentukan tingkat signifikansi alfa\n",
    "alfa = 0.05\n",
    "# 4. Tentukan uji statistik yang sesuai dan tentukan daerah kritis\n",
    "# Daerah kritis hipotesis alternatif ada di sebelah kanan nilai kritis\n",
    "# uji T test dan mencari p_value\n",
    "# 5. Hitung nilai uji statistik dari data sample. Hitung p-value sesuai dengan uji statistik yang digunakan.\n",
    "stat, p_value = stats.ttest_1samp(df1, 7)\n",
    "# Karena ttest_1samp secara default merupakan two-sided, maka p_value dibagi 2\n",
    "p_value /= 2\n",
    "print(\"Nilai uji statistik :\",stat)\n",
    "print(\"Nilai P :\",p_value)\n",
    "# 6. Ambil keputusan tolak atau terima, berdasarkan p-value\n",
    "print(\"Berdasarkan uji hipotesis menggunakan P-value,\\nmaka hipotesis nol H0\",end=' ')\n",
    "if (p_value < alfa):\n",
    "  print(\"DITOLAK\")\n",
    "else:\n",
    "  print(\"TIDAK DITOLAK\")\n",
    "\n",
    "df.boxplot(column=\"pH\")\n",
    "plt.show()"
   ]
  },
  {
   "cell_type": "markdown",
   "metadata": {},
   "source": [
    "# Penjelasan\n",
    "\n",
    "H0 ditolak karena nilai p-value lebih kecil dibandingkan significance level alpha.\n",
    "Dapat disimpulkan bahwa H0 DITOLAK dan H1 diterima.\n",
    "\n",
    "# Pengambilan Keputusan\n",
    "\n",
    "Dapat disimpulkan bahwa pernyataan \"Nilai Rata-rata pH di atas 7\" adalah tidak benar."
   ]
  },
  {
   "cell_type": "markdown",
   "metadata": {},
   "source": [
    "# 4.b. Nilai Rata-rata Hardness tidak sama dengan 205?"
   ]
  },
  {
   "cell_type": "code",
   "execution_count": 45,
   "metadata": {
    "scrolled": false
   },
   "outputs": [
    {
     "name": "stdout",
     "output_type": "stream",
     "text": [
      "   α =  0.05\n",
      "   Didapatkan daerah kritis z > 1.959963984540054 atau z < -1.959963984540054\n",
      "   Digunakan uji statistik z\n",
      "   p value =  2.5128904895144654e-35\n",
      "   z value =  -12.403137170010732\n",
      "6. Ambil keputusan apakah H0 ditolak atau tidak\n",
      "   H0 ditolak karena nilai ztest berada pada daerah kritis\n",
      "   H0 ditolak karena p value lebih kecil dari nilai signifikan\n",
      "Boxplot:\n"
     ]
    },
    {
     "data": {
      "image/png": "[encoded data removed]",
      "text/plain": [
       "<Figure size 432x288 with 1 Axes>"
      ]
     },
     "metadata": {
      "needs_background": "light"
     },
     "output_type": "display_data"
    }
   ],
   "source": [
    "# nomor 4b\n",
    "# Sampel yang diambil adalah seluruh populasinya.\n",
    "#b. Nilai Rata-rata Hardness tidak sama dengan 205?\n",
    "#(\"Enam langkah testing:\")\n",
    "#(\"1. Tentukan hipotesis nol atau H0\")\n",
    "#(\"   H0: μ = 116\")\n",
    "#(\"2. Tentukan hipotesis alternatif atau H1\")\n",
    "#(\"   H1: μ != 116\")\n",
    "#(\"3. Tentukan tingkat signifikan α\")\n",
    "alfa = 0.05\n",
    "print(\"   α = \", alfa)\n",
    "#4. Tentukan uji statistik yang sesuai dan tentukan daerah kritis\")\n",
    "daerahKritis = stats.norm.ppf(1-(alfa/2))\n",
    "print(\"   Didapatkan daerah kritis z > \"+str(daerahKritis)+\" atau z < -\"+str(daerahKritis))\n",
    "print(\"   Digunakan uji statistik z\")\n",
    "#print(\"5. Hitung uji nilai statistik dari data sample\")\n",
    "ztest ,pval = stests.ztest(df[\"Hardness\"], x2=None, value=205)\n",
    "print(\"   p value = \", float(pval))\n",
    "print(\"   z value = \", ztest)\n",
    "print(\"6. Ambil keputusan apakah H0 ditolak atau tidak\")\n",
    "if (ztest > daerahKritis or ztest < -daerahKritis):\n",
    "    print(\"   H0 ditolak karena nilai ztest berada pada daerah kritis\")\n",
    "else:\n",
    "    print(\"   H0 diterima karena nilai ztest tidak berada pada daerah kritis\")\n",
    "if (pval < 0.05):\n",
    "    print(\"   H0 ditolak karena p value lebih kecil dari nilai signifikan\")\n",
    "else:\n",
    "    print(\"   H0 diterima karena p value lebih besar dari nilai signifikan\")\n",
    "print(\"Boxplot:\")\n",
    "%matplotlib inline\n",
    "boxplot = df.boxplot(column=[\"Hardness\"])"
   ]
  },
  {
   "cell_type": "markdown",
   "metadata": {},
   "source": [
    "# Penjelasan\n",
    "\n",
    "1. H0 ditolak karena nilai ztest berada pada daerah kritis\n",
    "2. H0 ditolak karena p value lebih kecil dari nilai signifikan\n",
    "\n",
    "Dapat disimpulkan bahwa H0 DITOLAK sedangkan H1 TIDAK DITOLAK\n",
    "\n",
    "# Pengambilan Keputusan\n",
    "\n",
    "Dapat disimpulkan bahwa pernyataan \"Nilai Rata-rata Hardness tidak sama dengan 205\" adalah tidak benar."
   ]
  },
  {
   "cell_type": "markdown",
   "metadata": {},
   "source": [
    "# 4.c Nilai Rata-rata 100 baris pertama kolom Solids bukan 21900?"
   ]
  },
  {
   "cell_type": "code",
   "execution_count": 21,
   "metadata": {},
   "outputs": [
    {
     "name": "stdout",
     "output_type": "stream",
     "text": [
      "Rata-rata (x_bar)           = 22347.3344\n",
      "Standar deviasi (S)         = 7896.1882\n",
      "Daerah kritis R (t_alpha)   = 1.9842\n",
      "Nilai uji statistik (t)     = 0.563680\n",
      "Nilai p-value               = 0.5742467134052605\n",
      "\n",
      "H0 TIDAK DITOLAK karena nilai uji terletak di luar daerah kritis\n",
      "H0 TIDAK DITOLAK \n"
     ]
    },
    {
     "data": {
      "image/png": "[encoded data removed]",
      "text/plain": [
       "<Figure size 432x288 with 1 Axes>"
      ]
     },
     "metadata": {
      "needs_background": "light"
     },
     "output_type": "display_data"
    }
   ],
   "source": [
    "# Nilai statistik\n",
    "mu = 21900\n",
    "n = 100\n",
    "sample = df.head(n)\n",
    "x_bar = sample['Solids'].mean()\n",
    "std = sample['Solids'].std(ddof=0)\n",
    "alpha = 0.05\n",
    "\n",
    "# Daerah kritis\n",
    "v = n - 1\n",
    "t_alpha = stats.t.ppf(1-alpha/2,v)\n",
    "\n",
    "# Nilai uji statistik dan p-value\n",
    "t, p_value = stats.ttest_1samp(sample['Solids'], mu)\n",
    "\n",
    "\n",
    "print(\"Rata-rata (x_bar)           = %.4f\" %(x_bar))\n",
    "print(\"Standar deviasi (S)         = %.4f\" %(std))\n",
    "print(\"Daerah kritis R (t_alpha)   = %.4f\" %(t_alpha))\n",
    "print(\"Nilai uji statistik (t)     = %f\" %(t))\n",
    "print(\"Nilai p-value               = \" + str(p_value))\n",
    "print(\"\")\n",
    "sample.boxplot(\"Solids\")\n",
    "\n",
    "reject = False\n",
    "# REJECT H0 jika nilai uji terletak di daerah kritis (disebelah kanan nilai kritis)\n",
    "if (t < -t_alpha or t > t_alpha):\n",
    "    reject = True\n",
    "    print(\"H0 DITOLAK karena nilai uji terletak di daerah kritis\")\n",
    "else : \n",
    "    print(\"H0 TIDAK DITOLAK karena nilai uji terletak di luar daerah kritis\")\n",
    "# REJECT H0 jika p-value lebih kecil dibanding tingkat signifikansi alpha\n",
    "if (p_value < alpha):\n",
    "    reject = True\n",
    "    print(\"H0 DITOLAK \")\n",
    "else : \n",
    "    print(\"H0 TIDAK DITOLAK \")\n",
    "\n"
   ]
  },
  {
   "cell_type": "markdown",
   "metadata": {},
   "source": [
    "# Penjelasan\n",
    "\n",
    "1. H0 TIDAK DITOLAK karena nilai uji terletak di luar daerah kritis\n",
    "2. H0 TIDAK DITOLAK karena p-value lebih besar dibanding significance level alpha\n",
    "\n",
    "Maka dari data di atas H0 TIDAK DITOLAK sedangkan H1 DITOLAK\n",
    "\n",
    "\n",
    "# Pengambilan Keputusan\n",
    "Dapat disimpulkan bahwa pernyataan \"Nilai Rata-rata 100 baris pertama kolom Solids bukan 21900\" adalah benar."
   ]
  },
  {
   "cell_type": "markdown",
   "metadata": {},
   "source": [
    "# 4.d. Proporsi nilai Conductivity yang lebih dari 450, adalah tidak sama dengan 10%?"
   ]
  },
  {
   "cell_type": "code",
   "execution_count": 11,
   "metadata": {},
   "outputs": [
    {
     "name": "stdout",
     "output_type": "stream",
     "text": [
      "Jumlah data (x)             = 745\n",
      "Proportion (p0)             = 0.10\n",
      "Daerah kritis R (z_alpha)   = 1.96\n",
      "Nilai uji statistik (z)     = 40.446376\n",
      "Nilai p-value               = 0.0\n",
      "\n",
      "H0 REJECTED karena p-value lebih kecil dibandingkan significance level alpha\n",
      "\n",
      "Disimpulkan bahwa H0 REJECTED dan H1 NOT REJECTED\n"
     ]
    },
    {
     "data": {
      "image/png": "[encoded data removed]",
      "text/plain": [
       "<Figure size 432x288 with 1 Axes>"
      ]
     },
     "metadata": {
      "needs_background": "light"
     },
     "output_type": "display_data"
    }
   ],
   "source": [
    "#d. Proporsi nilai Conductivity yang lebih dari 450, adalah tidak sama dengan 10%?\n",
    "# Nilai statistik\n",
    "n = df.shape[0] #500\n",
    "x = df.loc[df[\"Conductivity\"] > 450].count()[\"Conductivity\"]\n",
    "p0 = 0.10\n",
    "alpha = 0.05\n",
    "\n",
    "# Daerah kritis\n",
    "z_alpha = stats.norm.ppf(1-alpha/2)\n",
    "\n",
    "# Nilai uji\n",
    "z = (x-n*p0)/math.sqrt(n*p0*(1-p0))\n",
    "#print(\"Nilai uji : \",z)\n",
    "\n",
    "# P-value\n",
    "p_value = 2*(stats.norm.sf(z))\n",
    "#print(\"P-value   : \", p_value)\n",
    "\n",
    "## Data statistik no_d\n",
    "# Jumlah data (x)             = 97\n",
    "# Proportion (p0)             = 0.15\n",
    "# Daerah kritis R (z_alpha)   = 1.96\n",
    "# Nilai uji statistik (z)     = 2.755387\n",
    "# Nilai p-value               = 0.0058622771684096655\n",
    "\n",
    "# Print\n",
    "print(\"Jumlah data (x)             = %d\" %(x))\n",
    "print(\"Proportion (p0)             = %.2f\" %(p0))\n",
    "print(\"Daerah kritis R (z_alpha)   = %.2f\" %(z_alpha))\n",
    "print(\"Nilai uji statistik (z)     = %f\" %(z))\n",
    "print(\"Nilai p-value               = \" + str(p_value))\n",
    "print(\"\")\n",
    "df.loc[df[\"Conductivity\"] > 450].boxplot(\"Conductivity\")\n",
    "\n",
    "# Pengambilan keputusan \n",
    "reject = False\n",
    "if (p_value <= alpha):\n",
    "    reject = True\n",
    "    print(\"H0 DITOLAK karena p-value lebih kecil dibandingkan significance level alpha\")\n",
    "else : \n",
    "    print(\"H0 TIDAK DITOLAK karena p-value lebih besar dibanding significance level alpha\")\n",
    "\n",
    "print(\"\")\n",
    "if (reject):\n",
    "    print (\"Disimpulkan bahwa H0 DITOLAK dan H1 TIDAK DITOLAK\")\n",
    "else : \n",
    "    print (\"Disimpulkan bahwa H0 TIDAK DITOLAK dan H1 DITOLAK\")"
   ]
  },
  {
   "cell_type": "markdown",
   "metadata": {},
   "source": [
    "# Penjelasan\n",
    "\n",
    "1. H0 DITOLAK karena p-value lebih kecil dibanding significance level alpha\n",
    "\n",
    "Maka dari data di atas H0 DITOLAK sedangkan H1 TIDAK DITOLAK\n",
    "\n",
    "# Pengambilan Keputusan\n",
    "Dapat disimpulkan bahwa pernyataan \"Proporsi nilai Conductivity yang lebih dari 450, adalah tidak sama dengan 10%\" adalah tidak benar."
   ]
  },
  {
   "cell_type": "markdown",
   "metadata": {},
   "source": [
    "# 4.e. Proporsi nilai Trihalomethanes yang kurang dari 40, adalah kurang dari 5%?"
   ]
  },
  {
   "cell_type": "code",
   "execution_count": 20,
   "metadata": {},
   "outputs": [
    {
     "name": "stdout",
     "output_type": "stream",
     "text": [
      "Jumlah data (x)             = 106\n",
      "Proportion (p0)             = 0.05\n",
      "Nilai kritis (z_alpha)      = -1.6449\n",
      "Nilai uji statistik (z)     = 0.562883\n",
      "Nilai p-value               = 0.7132425995092373\n",
      "\n",
      "H0 TIDAK DITOLAK\n"
     ]
    },
    {
     "data": {
      "image/png": "[encoded data removed]",
      "text/plain": [
       "<Figure size 432x288 with 1 Axes>"
      ]
     },
     "metadata": {
      "needs_background": "light"
     },
     "output_type": "display_data"
    }
   ],
   "source": [
    "n = df.shape[0]\n",
    "x = df.loc[df[\"Trihalomethanes\"] < 40].count()[\"Trihalomethanes\"]\n",
    "p0 = 0.05\n",
    "alpha = 0.05\n",
    "\n",
    "# Daerah kritis\n",
    "z_alpha = -stats.norm.ppf(1-alpha)\n",
    "#print(\"Nilai kritis : \", z_alpha)\n",
    "#print(\"Daerah kritis : z < %.4f\" %(z_alpha))\n",
    "\n",
    "# Nilai uji\n",
    "z = (x-n*p0)/math.sqrt(n*p0*(1-p0))\n",
    "#print(\"Nilai uji : \",z)\n",
    "\n",
    "# P-value\n",
    "p_value = (stats.norm.cdf(z))\n",
    "#print(\"P-value   : \", p_value)\n",
    "\n",
    "## Data statistik no_e\n",
    "#Jumlah data (x)             = 0\n",
    "#Proportion (p0)             = 0.05\n",
    "#Nilai kritis (z_alpha)      = -1.6449\n",
    "#Nilai uji statistik (z)     = -5.129892\n",
    "#Nilai p-value               = 1.4495441414387716e-07\n",
    "\n",
    "# Print\n",
    "print(\"Jumlah data (x)             = %d\" %(x))\n",
    "print(\"Proportion (p0)             = %.2f\" %(p0))\n",
    "print(\"Nilai kritis (z_alpha)      = %.4f\" %(z_alpha))\n",
    "print(\"Nilai uji statistik (z)     = %f\" %(z))\n",
    "#print(\"Nilai p-value               = %f\" %(p_value))\n",
    "print(\"Nilai p-value               = \" + str(p_value))\n",
    "print(\"\")\n",
    "df.loc[df[\"Trihalomethanes\"] < 40].boxplot(\"Trihalomethanes\")\n",
    "\n",
    "# Pengambilan keputusan \n",
    "reject = False\n",
    "if (p_value <= alpha):\n",
    "    reject = True\n",
    "    print(\"H0 DITOLAK\")\n",
    "else : \n",
    "    print(\"H0 TIDAK DITOLAK\")"
   ]
  },
  {
   "cell_type": "markdown",
   "metadata": {},
   "source": [
    "# Penjelasan\n",
    "\n",
    "1. H0 TIDAK DITOLAK karena p-value lebih besar dibanding significance level alpha\n",
    "\n",
    "Maka dari data di atas H0 TIDAK DITOLAK sedangkan H1 DITOLAK\n",
    "\n",
    "\n",
    "# Pengambilan Keputusan\n",
    "Dapat disimpulkan bahwa pernyataan \"Proporsi nilai Trihalomethanes yang kurang dari 40, adalah kurang dari 5%\" adalah benar."
   ]
  },
  {
   "cell_type": "markdown",
   "metadata": {},
   "source": [
    "# Nomor 5\n",
    "\n",
    "Melakukan test hipotesis 2 sampel, dengan menuliskan 6 langkah testing dan menampilkan juga boxplotnya untuk kolom/bagian yang bersesuaian\n",
    "\n",
    "1. Data kolom Sulfate dibagi 2 sama rata: bagian awal dan bagian akhir kolom. Benarkah rata-rata kedua bagian tersebut sama?\n",
    "2. Data kolom OrganicCarbon dibagi 2 sama rata: bagian awal dan bagian akhir kolom. Benarkah rata-rata bagian awal lebih besar dari pada bagian akhir sebesar 0.15?\n",
    "3. Rata-rata 100 baris pertama kolom Chloramines sama dengan 100 baris terakhirnya?\n",
    "4. Proporsi nilai bagian awal Turbidity yang lebih dari 4, adalah lebih besar daripada, proporsi nilai yang sama di bagian akhir Turbidity ?\n",
    "5. Bagian awal kolom Sulfate memiliki variansi yang sama dengan bagian akhirnya?"
   ]
  },
  {
   "cell_type": "markdown",
   "metadata": {},
   "source": [
    "# 5.a. Data kolom Sulfate dibagi 2 sama rata: bagian awal dan bagian akhir kolom. Benarkah rata-rata kedua bagian tersebut sama?"
   ]
  },
  {
   "cell_type": "code",
   "execution_count": 14,
   "metadata": {},
   "outputs": [
    {
     "name": "stdout",
     "output_type": "stream",
     "text": [
      "Plot data awal Sulfate:\n"
     ]
    },
    {
     "data": {
      "image/png": "[encoded data removed]",
      "text/plain": [
       "<Figure size 432x288 with 1 Axes>"
      ]
     },
     "metadata": {
      "needs_background": "light"
     },
     "output_type": "display_data"
    },
    {
     "name": "stdout",
     "output_type": "stream",
     "text": [
      "Plot data akhir Sulfate:\n"
     ]
    },
    {
     "data": {
      "image/png": "[encoded data removed]",
      "text/plain": [
       "<Figure size 432x288 with 1 Axes>"
      ]
     },
     "metadata": {
      "needs_background": "light"
     },
     "output_type": "display_data"
    },
    {
     "name": "stdout",
     "output_type": "stream",
     "text": [
      "Nilai uji statistik:  -2.1177172044750745\n",
      "P value:  0.034444306652381386\n",
      "Daerah kritis diantara  -1.646372735186523  dan  1.6463727351865223\n",
      "\n",
      "Kesimpulan:\n",
      "H0 ditolak\n"
     ]
    }
   ],
   "source": [
    "#nomor 5\n",
    "\"\"\"\n",
    "Melakukan test hipotesis 2 sampel, dengan menuliskan 6 langkah testing dan menampilkan\n",
    "juga boxplotnya untuk kolom/bagian yang bersesuaian.\n",
    "a. Data kolom Sulfate dibagi 2 sama rata: bagian awal dan bagian akhir kolom. Benarkah\n",
    "rata-rata kedua bagian tersebut sama?\n",
    "\"\"\"\n",
    "alpha = 0.05\n",
    "\n",
    "# data bagian awal\n",
    "df1 = df['Sulfate'][:1005]\n",
    "# data bagian akhir\n",
    "df2 = df['Sulfate'][1005:]\n",
    "\n",
    "# plot data\n",
    "print('Plot data awal Sulfate:')\n",
    "df1.plot.box()\n",
    "plt.show()\n",
    "print('Plot data akhir Sulfate:')\n",
    "df2.plot.box()\n",
    "plt.show()\n",
    "\n",
    "# uji statistik (t test)\n",
    "tstat, pval = stats.ttest_rel(df1, df2)\n",
    "print('Nilai uji statistik: ', tstat)\n",
    "\n",
    "# P value\n",
    "print('P value: ', pval)\n",
    "\n",
    "# Daerah kritis\n",
    "x = stats.t.ppf(alpha, len(df1)-1)\n",
    "y = stats.t.ppf(1-alpha, len(df2)-1)\n",
    "print('Daerah kritis diantara ', x, ' dan ', y)\n",
    "\n",
    "# Kesimpulan\n",
    "print('\\nKesimpulan:')\n",
    "if (alpha > pval):\n",
    "    print('H0 ditolak')\n",
    "else:\n",
    "    print('H0 tidak ditolak')"
   ]
  },
  {
   "cell_type": "markdown",
   "metadata": {},
   "source": [
    "# Penjelasan\n",
    "\n",
    "H0 ditolak karena nilai p-value lebih kecil dari tingkta signifikansinya\n",
    "\n",
    "# Pengambilan Keputusan\n",
    "\n",
    "Maka dapat disimpulkan bahwa rata-rata bagian awal Sulfate tidak sama dengan bagian akhir sulfate."
   ]
  },
  {
   "cell_type": "markdown",
   "metadata": {},
   "source": [
    "# 5.b. Data kolom OrganicCarbon dibagi 2 sama rata: bagian awal dan bagian akhir kolom. Benarkah rata-rata bagian awal lebih besar dari pada bagian akhir sebesar 0.15?"
   ]
  },
  {
   "cell_type": "code",
   "execution_count": 15,
   "metadata": {},
   "outputs": [
    {
     "name": "stdout",
     "output_type": "stream",
     "text": [
      "Plot data awal OrganicCarbon:\n"
     ]
    },
    {
     "data": {
      "image/png": "[encoded data removed]",
      "text/plain": [
       "<Figure size 432x288 with 1 Axes>"
      ]
     },
     "metadata": {
      "needs_background": "light"
     },
     "output_type": "display_data"
    },
    {
     "name": "stdout",
     "output_type": "stream",
     "text": [
      "Plot data akhir OrganicCarbon:\n"
     ]
    },
    {
     "data": {
      "image/png": "[encoded data removed]",
      "text/plain": [
       "<Figure size 432x288 with 1 Axes>"
      ]
     },
     "metadata": {
      "needs_background": "light"
     },
     "output_type": "display_data"
    },
    {
     "name": "stdout",
     "output_type": "stream",
     "text": [
      "Nilai uji statistik:  -2.413145517798807\n",
      "P value:  0.01581550381760006\n",
      "Daerah kritis pada z > z(0.05) atau z < -z(0.05)\n",
      "\n",
      "Kesimpulan:\n",
      "H0 ditolak\n"
     ]
    }
   ],
   "source": [
    "\"\"\"\n",
    "b. Data kolom OrganicCarbon dibagi 2 sama rata: bagian awal dan bagian akhir kolom.\n",
    "Benarkah rata-rata bagian awal lebih besar dari pada bagian akhir sebesar 0.15?\n",
    "\"\"\"\n",
    "alpha = 0.05\n",
    "\n",
    "# data bagian awal\n",
    "df1 = df['OrganicCarbon'][:1005]\n",
    "# data bagian akhir\n",
    "df2 = df['OrganicCarbon'][1005:]\n",
    "\n",
    "# plot data\n",
    "print('Plot data awal OrganicCarbon:')\n",
    "df1.plot.box()\n",
    "plt.show()\n",
    "print('Plot data akhir OrganicCarbon:')\n",
    "df2.plot.box()\n",
    "plt.show()\n",
    "\n",
    "# uji statistik (test z)\n",
    "ztest, pval = stests.ztest(df1, x2=df2, value=0.15, alternative='two-sided')\n",
    "print('Nilai uji statistik: ', ztest)\n",
    "\n",
    "# P value\n",
    "print('P value: ', pval)\n",
    "\n",
    "# Daerah kritis\n",
    "print('Daerah kritis pada z > z(0.05) atau z < -z(0.05)')\n",
    "\n",
    "# Kesimpulan\n",
    "print('\\nKesimpulan:')\n",
    "if (pval < alpha):\n",
    "    print('H0 ditolak')\n",
    "else:\n",
    "    print('H0 tidak ditolak')\n",
    "\n"
   ]
  },
  {
   "cell_type": "markdown",
   "metadata": {},
   "source": [
    "# Penjelasan\n",
    "\n",
    "H0 ditolak karena nilai p-value lebih kecil dari tingkat signifikansinya\n",
    "\n",
    "# Pengambilan Keputusan\n",
    "\n",
    "Maka dapat disimpulkan bahwa rata-rata bagian awal OrganicCarbon tidak lebih besar dari bagian akhir yaitu 0.15."
   ]
  },
  {
   "cell_type": "markdown",
   "metadata": {},
   "source": [
    "# 5.c. Rata-rata 100 baris pertama kolom Chloramines sama dengan 100 baris terakhirnya?"
   ]
  },
  {
   "cell_type": "code",
   "execution_count": 16,
   "metadata": {},
   "outputs": [
    {
     "name": "stdout",
     "output_type": "stream",
     "text": [
      "Plot data awal Chloramines:\n"
     ]
    },
    {
     "data": {
      "image/png": "[encoded data removed]",
      "text/plain": [
       "<Figure size 432x288 with 1 Axes>"
      ]
     },
     "metadata": {
      "needs_background": "light"
     },
     "output_type": "display_data"
    },
    {
     "name": "stdout",
     "output_type": "stream",
     "text": [
      "Plot data akhir Chloramines:\n"
     ]
    },
    {
     "data": {
      "image/png": "[encoded data removed]",
      "text/plain": [
       "<Figure size 432x288 with 1 Axes>"
      ]
     },
     "metadata": {
      "needs_background": "light"
     },
     "output_type": "display_data"
    },
    {
     "name": "stdout",
     "output_type": "stream",
     "text": [
      "Nilai uji statistik:  -0.6683369073842939\n",
      "P value:  0.5054738364553271\n",
      "Daerah kritis diantara  -1.6603911559963902  dan  1.6603911559963895\n",
      "\n",
      "Kesimpulan:\n",
      "H0 tidak ditolak\n"
     ]
    }
   ],
   "source": [
    "\"\"\"\n",
    "c. Rata-rata 100 baris pertama kolom Chloramines sama dengan 100 baris terakhirnya?\n",
    "\"\"\"\n",
    "alpha = 0.05\n",
    "\n",
    "# data bagian awal\n",
    "df1 = df['Chloramines'][:100]\n",
    "# data bagian akhir\n",
    "df2 = df['Chloramines'][1910:2010]\n",
    "\n",
    "# plot data\n",
    "print('Plot data awal Chloramines:')\n",
    "df1.plot.box()\n",
    "plt.show()\n",
    "print('Plot data akhir Chloramines:')\n",
    "df2.plot.box()\n",
    "plt.show()\n",
    "\n",
    "# uji statistik (t test)\n",
    "tstat, pval = stats.ttest_rel(df1, df2)\n",
    "print('Nilai uji statistik: ', tstat)\n",
    "\n",
    "# P value\n",
    "print('P value: ', pval)\n",
    "\n",
    "# Daerah kritis\n",
    "x = stats.t.ppf(alpha, len(df1)-1)\n",
    "y = stats.t.ppf(1-alpha, len(df2)-1)\n",
    "print('Daerah kritis diantara ', x, ' dan ', y)\n",
    "\n",
    "# Kesimpulan\n",
    "print('\\nKesimpulan:')\n",
    "if (alpha > pval):\n",
    "    print('H0 ditolak')\n",
    "else:\n",
    "    print('H0 tidak ditolak')"
   ]
  },
  {
   "cell_type": "markdown",
   "metadata": {},
   "source": [
    "# Penjelasan\n",
    "\n",
    "1. H0 tidak ditolak karena nilai p-value lebih besar dari tingkat signifikansinya.\n",
    "2. H0 ditolak karena z berada di dalam batasan daerah kritis.\n",
    "\n",
    "# Pengambilan Keputusan\n",
    "\n",
    "Maka dapat disimpulkan bahwa Rata-rata 100 baris pertama Chloramines != Rata-rata 100 baris terakhir Chloramines"
   ]
  },
  {
   "cell_type": "markdown",
   "metadata": {},
   "source": [
    "# 5.d. Proporsi nilai bagian awal Turbidity yang lebih dari 4 adalah lebih besar daripada proporsi nilai yang sama di bagian akhir Turbidity ?"
   ]
  },
  {
   "cell_type": "code",
   "execution_count": 17,
   "metadata": {},
   "outputs": [
    {
     "name": "stdout",
     "output_type": "stream",
     "text": [
      "Plot data awal Turbidity:\n"
     ]
    },
    {
     "data": {
      "image/png": "[encoded data removed]",
      "text/plain": [
       "<Figure size 432x288 with 1 Axes>"
      ]
     },
     "metadata": {
      "needs_background": "light"
     },
     "output_type": "display_data"
    },
    {
     "name": "stdout",
     "output_type": "stream",
     "text": [
      "Plot data akhir Turbidity:\n"
     ]
    },
    {
     "data": {
      "image/png": "[encoded data removed]",
      "text/plain": [
       "<Figure size 432x288 with 1 Axes>"
      ]
     },
     "metadata": {
      "needs_background": "light"
     },
     "output_type": "display_data"
    },
    {
     "name": "stdout",
     "output_type": "stream",
     "text": [
      "Nilai uji statistik:  -0.13388958661778735\n",
      "Daerah kritis terletak pada z >  1.6448536269514722\n",
      "\n",
      "Kesimpulan:\n",
      "H0 tidak ditolak\n"
     ]
    }
   ],
   "source": [
    "\"\"\"\n",
    "d. Proporsi nilai bagian awal Turbidity yang lebih dari 4, adalah lebih besar daripada,\n",
    "proporsi nilai yang sama di bagian akhir Turbidity ?\n",
    "\"\"\"\n",
    "\n",
    "\n",
    "# nilai tingkat signifikan\n",
    "alpha = 0.05\n",
    "\n",
    "# data bagian awal\n",
    "bagatas = df['Turbidity'][:1005][df['Turbidity'] > 4]\n",
    "# data bagian akhir\n",
    "bagbawah = df['Turbidity'][1005:][df['Turbidity'] > 4]\n",
    "\n",
    "# plot data\n",
    "print('Plot data awal Turbidity:')\n",
    "bagatas.plot.box()\n",
    "plt.show()\n",
    "print('Plot data akhir Turbidity:')\n",
    "bagbawah.plot.box()\n",
    "plt.show()\n",
    "\n",
    "# jumlah data awal dan akhir Turbidity\n",
    "nr1 = 1005\n",
    "nr2 = 1005\n",
    "\n",
    "# uji statistik (test z)\n",
    "p1 = len(bagatas)/nr1\n",
    "p2 = len(bagbawah)/nr2\n",
    "p = (len(bagatas) + len(bagbawah))/(nr1+nr2)\n",
    "q = 1-p\n",
    "\n",
    "z = (p1-p2)/math.sqrt(p*q*(1/nr1 + 1/nr2))\n",
    "\n",
    "print('Nilai uji statistik: ', z)\n",
    "\n",
    "# Daerah kritis\n",
    "zkritis = stats.norm.ppf(1-alpha)\n",
    "print('Daerah kritis terletak pada z > ', zkritis)\n",
    "\n",
    "# Kesimpulan\n",
    "print('\\nKesimpulan:')\n",
    "if (z > zkritis):\n",
    "    print('H0 ditolak')\n",
    "else:\n",
    "    print('H0 tidak ditolak')\n"
   ]
  },
  {
   "cell_type": "markdown",
   "metadata": {},
   "source": [
    "# Penjelasan\n",
    "\n",
    "H0 tidak ditolak karena nilai z berada di luar batasan daerah kritis.\n",
    "\n",
    "\n",
    "# Pengambilan Keputusan\n",
    "Maka dapat disimpulkan bahwa proporsi bagian awal Turbidity yang lebih dari 4 adalah sama dibanding dengan bagian akhir ."
   ]
  },
  {
   "cell_type": "code",
   "execution_count": 37,
   "metadata": {},
   "outputs": [
    {
     "name": "stdout",
     "output_type": "stream",
     "text": [
      "Plot data awal Sulfate:\n"
     ]
    },
    {
     "data": {
      "image/png": "[encoded data removed]",
      "text/plain": [
       "<Figure size 432x288 with 1 Axes>"
      ]
     },
     "metadata": {
      "needs_background": "light"
     },
     "output_type": "display_data"
    },
    {
     "name": "stdout",
     "output_type": "stream",
     "text": [
      "Plot data akhir Sulfate:\n"
     ]
    },
    {
     "data": {
      "image/png": "[encoded data removed]",
      "text/plain": [
       "<Figure size 432x288 with 1 Axes>"
      ]
     },
     "metadata": {
      "needs_background": "light"
     },
     "output_type": "display_data"
    },
    {
     "name": "stdout",
     "output_type": "stream",
     "text": [
      "Variance data awal Sulfate:  1708.3966020772502\n",
      "Variance data akhir Sulfate:  1682.7330644425087\n",
      "Nilai uji statistik:  1.0152511043950063\n",
      "P value:  0.40526664801745826\n",
      "f memiliki daerah kritis pada f >  1.1317692392568777  dan f <  0.883572344355818\n",
      "\n",
      "Kesimpulan:\n",
      "H0 tidak ditolak\n"
     ]
    }
   ],
   "source": [
    "\"\"\"\n",
    "e. Bagian awal kolom Sulfate memiliki variansi yang sama dengan bagian akhirnya?\n",
    "\"\"\"\n",
    "\n",
    "# H0 = var1 = var2\n",
    "# H1 = var1 != var2\n",
    "\n",
    "# nilai tingkat signifikan\n",
    "alpha = 0.05\n",
    "\n",
    "# Data bagian awal\n",
    "df1 = df['Sulfate'][:1005]\n",
    "# Data bagian akhir\n",
    "df2 = df['Sulfate'][1005:]\n",
    "\n",
    "# Plot data\n",
    "print('Plot data awal Sulfate:')\n",
    "df1.plot.box()\n",
    "plt.show()\n",
    "print('Plot data akhir Sulfate:')\n",
    "df2.plot.box()\n",
    "plt.show()\n",
    "\n",
    "# degrees of freedom\n",
    "dfn = len(df1)-1\n",
    "dfd = len(df2)-1\n",
    "\n",
    "# Variance dari data awal dan akhir\n",
    "var1 = df1.var(ddof=1)\n",
    "var2 = df2.var(ddof=1)\n",
    "print('Variance data awal Sulfate: ', var1)\n",
    "print('Variance data akhir Sulfate: ', var2)\n",
    "\n",
    "# Uji statistik (test f)\n",
    "f = var1/var2\n",
    "print('Nilai uji statistik: ', f)\n",
    "\n",
    "# P Value\n",
    "f_pval = 1-stats.f.cdf(f, dfn, dfd)\n",
    "print('P value: ', f_pval)\n",
    "\n",
    "# Daerah kritis\n",
    "fkritis1 = stats.f(dfn, dfd).ppf(1-alpha/2)\n",
    "fkritis2 = stats.f(dfn, dfd).ppf(alpha/2)\n",
    "print('f memiliki daerah kritis pada f > ', fkritis1, ' dan f < ', fkritis2)\n",
    "\n",
    "# Kesimpulan\n",
    "print('\\nKesimpulan:')\n",
    "if (f > fkritis1 or f < fkritis2):\n",
    "    print('H0 ditolak')\n",
    "else:\n",
    "    print('H0 tidak ditolak')"
   ]
  },
  {
   "cell_type": "markdown",
   "metadata": {},
   "source": [
    "# Penjelasan\n",
    "\n",
    "1. H0 Tidak ditolak karena nilai f berada di luar batasan daerah kritis\n",
    "\n",
    "Maka H0 NOT REJECTED dan H1 REJECTED\n",
    "\n",
    "# Pengambilan Keputusan\n",
    "\n",
    "Dapat disimpulkan bahwa bagian awal kolom Sulfate memiliki variansi yang sama dengan bagian akhirnya"
   ]
  },
  {
   "cell_type": "markdown",
   "metadata": {},
   "source": [
    "# Nomor 6\n",
    "Test korelasi: tentukan apakah setiap kolom non-target berkorelasi dengan kolom target,\n",
    "dengan menggambarkan juga scatter plot nya. Gunakan correlation test.\n",
    "\n",
    "\n",
    "Misalkan cor adalah Pearson Correlation Coefficient\n",
    "\n",
    "cor selalu berada pada interval -1<=cor<=1  , dan dibagi menjadi 3 kategori :\n",
    "1. 0<cor<=1 dikegorikan sebagai positive correlation\n",
    "2. -1<=cor<0 dikegorikan sebagai negative correlation\n",
    "3. cor=0 dikegorikan sebagai no correlation\n",
    "\n",
    "Klasifikasi dari strength of correlation :\n",
    "1. Perfect relationship, |r|=1\n",
    "2. Very strong relationship,0.7<=|r|<1\n",
    "3. strong relationship,0.4<=|r|<0.7\n",
    "4. moderate relationship,0.3<=|r|<0.4\n",
    "5. weak relationship, 0.1<=|r|<0.3\n",
    "6. no or negligible relationship,0.0<=|r|<0.1"
   ]
  },
  {
   "cell_type": "code",
   "execution_count": 113,
   "metadata": {},
   "outputs": [],
   "source": [
    "#nomor 6\n",
    "#Test korelasi: tentukan apakah setiap kolom non-target berkorelasi dengan kolom target,\n",
    "#dengan menggambarkan juga scatter plot nya. Gunakan correlation test\n",
    "def nomor6(nama):\n",
    "    df.plot(kind='scatter', x=nama, y=\"Potability\", color=\"blue\")\n",
    "    plt.show()\n",
    "    df1 = df[nama]\n",
    "    cor = df1.corr(method='pearson', other=df[\"Potability\"])\n",
    "    print(\"Koefisien Korelasi Pearson dari \"+nama+\" : \"+str(cor))\n",
    "    print(\"Korelasi antara kolom \"+nama+\" dan kolom Potability adalah\",end=' ')\n",
    "    if 0 < cor < 1:\n",
    "        if (0.7<=abs(cor)<1) :\n",
    "            print(\"Very Strong Positive Relationship\")\n",
    "        if 0.4<=abs(cor)<0.7:\n",
    "            print(\"Strong Positive Relationship\")\n",
    "        if 0.3<=abs(cor)<0.4:\n",
    "            print(\"Moderate Positive Relationship\")\n",
    "        if 0.1<=abs(cor)<0.3:\n",
    "            print(\"Weak Positive Relationship\")\n",
    "        if 0.0<=abs(cor)<0.1:\n",
    "            print(\"No or Negligible Positive Relationship\")\n",
    "    elif -1 < cor < 0:\n",
    "        if (0.7<=abs(cor)<1) :\n",
    "            print(\"Very Strong Negative Relationship\")\n",
    "        if 0.4<=abs(cor)<0.7:\n",
    "            print(\"Strong Negative Relationship\")\n",
    "        if 0.3<=abs(cor)<0.4:\n",
    "            print(\"Moderate Negative Relationship\")\n",
    "        if 0.1<=abs(cor)<0.3:\n",
    "            print(\"Weak Negative Relationship\")\n",
    "        if 0.0<=abs(cor)<0.1:\n",
    "            print(\"No or Negligible Negative Relationship\")        \n",
    "    elif cor == 1:\n",
    "        print(\"perfect positive correlation.\")\n",
    "    elif cor == -1:\n",
    "        print(\"perfect negative correlation.\")\n",
    "    elif cor == 0:\n",
    "        print(\"tidak memiliki correlation.\")\n",
    "    else: # cor diluar -1 <= cor <= 1\n",
    "        print(\"error.\")\n",
    "\n"
   ]
  },
  {
   "cell_type": "code",
   "execution_count": 114,
   "metadata": {},
   "outputs": [
    {
     "data": {
      "image/png": "[encoded data removed]",
      "text/plain": [
       "<Figure size 432x288 with 1 Axes>"
      ]
     },
     "metadata": {
      "needs_background": "light"
     },
     "output_type": "display_data"
    },
    {
     "name": "stdout",
     "output_type": "stream",
     "text": [
      "Koefisien Korelasi Pearson dari pH : 0.015475094408433483\n",
      "Korelasi antara kolom pH dan kolom Potability adalah No or Negligible Positive Relationship\n"
     ]
    }
   ],
   "source": [
    "nomor6('pH')"
   ]
  },
  {
   "cell_type": "markdown",
   "metadata": {},
   "source": [
    "Klasifikasi dari strength of correlation :\n",
    "1. Perfect relationship, |r|=1\n",
    "2. Very strong relationship,0.7<=|r|<1\n",
    "3. strong relationship,0.4<=|r|<0.7\n",
    "4. moderate relationship,0.3<=|r|<0.4\n",
    "5. weak relationship, 0.1<=|r|<0.3\n",
    "6. no or negligible relationship,0.0<=|r|<0.1"
   ]
  },
  {
   "cell_type": "code",
   "execution_count": 108,
   "metadata": {},
   "outputs": [
    {
     "data": {
      "image/png": "[encoded data removed]",
      "text/plain": [
       "<Figure size 432x288 with 1 Axes>"
      ]
     },
     "metadata": {
      "needs_background": "light"
     },
     "output_type": "display_data"
    },
    {
     "name": "stdout",
     "output_type": "stream",
     "text": [
      "Koefisien Korelasi Pearson dari pH : 0.015475094408433483\n",
      "Korelasi antara kolom pH dan kolom Potability adalah positive correlation.\n"
     ]
    }
   ],
   "source": [
    "nomor6('pH')"
   ]
  },
  {
   "cell_type": "code",
   "execution_count": 115,
   "metadata": {},
   "outputs": [
    {
     "data": {
      "image/png": "[encoded data removed]",
      "text/plain": [
       "<Figure size 432x288 with 1 Axes>"
      ]
     },
     "metadata": {
      "needs_background": "light"
     },
     "output_type": "display_data"
    },
    {
     "name": "stdout",
     "output_type": "stream",
     "text": [
      "Koefisien Korelasi Pearson dari Hardness : -0.0014631528959479338\n",
      "Korelasi antara kolom Hardness dan kolom Potability adalah No or Negligible Negative Relationship\n"
     ]
    }
   ],
   "source": [
    "nomor6(\"Hardness\")"
   ]
  },
  {
   "cell_type": "code",
   "execution_count": 116,
   "metadata": {},
   "outputs": [
    {
     "data": {
      "image/png": "[encoded data removed]",
      "text/plain": [
       "<Figure size 432x288 with 1 Axes>"
      ]
     },
     "metadata": {
      "needs_background": "light"
     },
     "output_type": "display_data"
    },
    {
     "name": "stdout",
     "output_type": "stream",
     "text": [
      "Koefisien Korelasi Pearson dari Solids : 0.03897657818173472\n",
      "Korelasi antara kolom Solids dan kolom Potability adalah No or Negligible Positive Relationship\n"
     ]
    }
   ],
   "source": [
    "nomor6(\"Solids\")"
   ]
  },
  {
   "cell_type": "code",
   "execution_count": 117,
   "metadata": {},
   "outputs": [
    {
     "data": {
      "image/png": "[encoded data removed]",
      "text/plain": [
       "<Figure size 432x288 with 1 Axes>"
      ]
     },
     "metadata": {
      "needs_background": "light"
     },
     "output_type": "display_data"
    },
    {
     "name": "stdout",
     "output_type": "stream",
     "text": [
      "Koefisien Korelasi Pearson dari Chloramines : 0.02077892184052408\n",
      "Korelasi antara kolom Chloramines dan kolom Potability adalah No or Negligible Positive Relationship\n"
     ]
    }
   ],
   "source": [
    "nomor6(\"Chloramines\")"
   ]
  },
  {
   "cell_type": "code",
   "execution_count": 118,
   "metadata": {},
   "outputs": [
    {
     "data": {
      "image/png": "[encoded data removed]",
      "text/plain": [
       "<Figure size 432x288 with 1 Axes>"
      ]
     },
     "metadata": {
      "needs_background": "light"
     },
     "output_type": "display_data"
    },
    {
     "name": "stdout",
     "output_type": "stream",
     "text": [
      "Koefisien Korelasi Pearson dari Sulfate : -0.015703164419273833\n",
      "Korelasi antara kolom Sulfate dan kolom Potability adalah No or Negligible Negative Relationship\n"
     ]
    }
   ],
   "source": [
    "nomor6(\"Sulfate\")"
   ]
  },
  {
   "cell_type": "code",
   "execution_count": 119,
   "metadata": {},
   "outputs": [
    {
     "data": {
      "image/png": "[encoded data removed]",
      "text/plain": [
       "<Figure size 432x288 with 1 Axes>"
      ]
     },
     "metadata": {
      "needs_background": "light"
     },
     "output_type": "display_data"
    },
    {
     "name": "stdout",
     "output_type": "stream",
     "text": [
      "Koefisien Korelasi Pearson dari Conductivity : -0.016257120111377088\n",
      "Korelasi antara kolom Conductivity dan kolom Potability adalah No or Negligible Negative Relationship\n"
     ]
    }
   ],
   "source": [
    "nomor6(\"Conductivity\")"
   ]
  },
  {
   "cell_type": "code",
   "execution_count": 120,
   "metadata": {},
   "outputs": [
    {
     "data": {
      "image/png": "[encoded data removed]",
      "text/plain": [
       "<Figure size 432x288 with 1 Axes>"
      ]
     },
     "metadata": {
      "needs_background": "light"
     },
     "output_type": "display_data"
    },
    {
     "name": "stdout",
     "output_type": "stream",
     "text": [
      "Koefisien Korelasi Pearson dari OrganicCarbon : -0.015488461910747283\n",
      "Korelasi antara kolom OrganicCarbon dan kolom Potability adalah No or Negligible Negative Relationship\n"
     ]
    }
   ],
   "source": [
    "nomor6( \"OrganicCarbon\")"
   ]
  },
  {
   "cell_type": "code",
   "execution_count": 122,
   "metadata": {},
   "outputs": [
    {
     "data": {
      "image/png": "[encoded data removed]",
      "text/plain": [
       "<Figure size 432x288 with 1 Axes>"
      ]
     },
     "metadata": {
      "needs_background": "light"
     },
     "output_type": "display_data"
    },
    {
     "name": "stdout",
     "output_type": "stream",
     "text": [
      "Koefisien Korelasi Pearson dari Trihalomethanes : 0.009236711064713018\n",
      "Korelasi antara kolom Trihalomethanes dan kolom Potability adalah No or Negligible Positive Relationship\n"
     ]
    }
   ],
   "source": [
    "nomor6(\"Trihalomethanes\")"
   ]
  },
  {
   "cell_type": "code",
   "execution_count": 123,
   "metadata": {},
   "outputs": [
    {
     "data": {
      "image/png": "[encoded data removed]",
      "text/plain": [
       "<Figure size 432x288 with 1 Axes>"
      ]
     },
     "metadata": {
      "needs_background": "light"
     },
     "output_type": "display_data"
    },
    {
     "name": "stdout",
     "output_type": "stream",
     "text": [
      "Koefisien Korelasi Pearson dari Turbidity : 0.022331042640622672\n",
      "Korelasi antara kolom Turbidity dan kolom Potability adalah No or Negligible Positive Relationship\n"
     ]
    }
   ],
   "source": [
    "nomor6(\"Turbidity\")"
   ]
  }
 ],
 "metadata": {
  "kernelspec": {
   "display_name": "Python 3 (ipykernel)",
   "language": "python",
   "name": "python3"
  },
  "language_info": {
   "codemirror_mode": {
    "name": "ipython",
    "version": 3
   },
   "file_extension": ".py",
   "mimetype": "text/x-python",
   "name": "python",
   "nbconvert_exporter": "python",
   "pygments_lexer": "ipython3",
   "version": "3.10.0"
  }
 },
 "nbformat": 4,
 "nbformat_minor": 4
}
