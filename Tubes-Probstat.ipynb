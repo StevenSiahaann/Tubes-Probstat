{
 "cells": [
  {
   "cell_type": "code",
   "execution_count": 29,
   "metadata": {},
   "outputs": [],
   "source": [
    "\"\"\"\"\n",
    "Enam Langkah Testing:\n",
    "1. Tentukan Hipotesis nol (H0: θ = θ0), dimana θ bisa berupa μ, σ^2,p, atau data lain berdistribusi \n",
    "tertentu (normal, binomial, dsc.).\n",
    "2. Pilih hipotesis alternatif H1 salah dari dari θ > θ0, θ < θ0, atau θ ≠ θ0.\n",
    "3. Tentukan tingkat signifikan α.\n",
    "4. Tentukan uji statistik yang sesuai dan tentukan daerah kritis.\n",
    "5. Hitung nilai uji statistik dari data sample. Hitung p-value sesuai dengan uji statistik yang\n",
    "digunakan.\n",
    "6. Ambil keputusan dengan TOLAK H0\n",
    "jika nilai uji terletak di daerah kritis atau dengan tes signifikan, TOLAK H0\n",
    "jika p-value lebih kecil dibanding tingkat signifikansi α yang diinginkan.\n",
    "\"\"\"\n",
    "import pandas as pd\n",
    "import matplotlib.pyplot as plt\n",
    "import seaborn as sns\n",
    "import numpy as np\n",
    "import math\n",
    "from scipy.stats import normaltest\n",
    "from scipy.stats import ttest_1samp\n",
    "from scipy import stats\n",
    "from scipy.stats import norm\n",
    "from statsmodels.stats import weightstats as stests\n",
    "from statsmodels.stats.proportion import proportions_ztest\n",
    "#read file\n",
    "path=r\"D:\\Semester 4\\Probstat\\Tubes-Probstat\\water_potability.csv\"\n",
    "df = pd.read_csv(path,names=[\"id\", \"pH\", \"Hardness\", \"Solids\", \"Chloramines\", \"Sulfate\", \"Conductivity\", \"OrganicCarbon\", \"Trihalomethanes\", \"Turbidity\", \"Potability\"])\n",
    "#print(df)\n"
   ]
  },
  {
   "cell_type": "code",
   "execution_count": 38,
   "metadata": {},
   "outputs": [],
   "source": [
    "def nomor1(nama):\n",
    "    df1 = df[nama]\n",
    "    count = {'mean':df1.mean(),'median':df1.median(),'modus':df1.mode().values,\n",
    "          'standar deviasi':df1.std(), 'variansi':df1.var(),\n",
    "           'range':df1.max()-df1.min(), 'minimum':df1.min(), \n",
    "           'maksimum':df1.max(),'kuartil 1':df1.quantile(0.25),\n",
    "           'kuartil 2':df1.quantile(0.5),'kuartil 3':df1.quantile(0.75), \n",
    "           'IQR':df1.quantile(0.75) - df1.quantile(0.25), 'skewness':df1.skew(),\n",
    "           'kurtosis':df1.kurtosis()\n",
    "          }\n",
    "    count_list = list(count.items())\n",
    "\n",
    "    new_df = pd.DataFrame.from_dict(count_list)\n",
    "    return new_df.style.set_table_attributes(\"style='display:inline'\").set_caption('Deskripsi Statistik '+nama)"
   ]
  },
  {
   "cell_type": "code",
   "execution_count": 39,
   "metadata": {},
   "outputs": [
    {
     "data": {
      "text/html": [
       "<style type=\"text/css\">\n",
       "</style>\n",
       "<table id=\"T_cfc37\" style='display:inline'>\n",
       "  <caption>Deskripsi Statistik id</caption>\n",
       "  <thead>\n",
       "    <tr>\n",
       "      <th class=\"blank level0\" >&nbsp;</th>\n",
       "      <th id=\"T_cfc37_level0_col0\" class=\"col_heading level0 col0\" >0</th>\n",
       "      <th id=\"T_cfc37_level0_col1\" class=\"col_heading level0 col1\" >1</th>\n",
       "    </tr>\n",
       "  </thead>\n",
       "  <tbody>\n",
       "    <tr>\n",
       "      <th id=\"T_cfc37_level0_row0\" class=\"row_heading level0 row0\" >0</th>\n",
       "      <td id=\"T_cfc37_row0_col0\" class=\"data row0 col0\" >mean</td>\n",
       "      <td id=\"T_cfc37_row0_col1\" class=\"data row0 col1\" >1005.500000</td>\n",
       "    </tr>\n",
       "    <tr>\n",
       "      <th id=\"T_cfc37_level0_row1\" class=\"row_heading level0 row1\" >1</th>\n",
       "      <td id=\"T_cfc37_row1_col0\" class=\"data row1 col0\" >median</td>\n",
       "      <td id=\"T_cfc37_row1_col1\" class=\"data row1 col1\" >1005.500000</td>\n",
       "    </tr>\n",
       "    <tr>\n",
       "      <th id=\"T_cfc37_level0_row2\" class=\"row_heading level0 row2\" >2</th>\n",
       "      <td id=\"T_cfc37_row2_col0\" class=\"data row2 col0\" >modus</td>\n",
       "      <td id=\"T_cfc37_row2_col1\" class=\"data row2 col1\" >[   1    2    3 ... 2008 2009 2010]</td>\n",
       "    </tr>\n",
       "    <tr>\n",
       "      <th id=\"T_cfc37_level0_row3\" class=\"row_heading level0 row3\" >3</th>\n",
       "      <td id=\"T_cfc37_row3_col0\" class=\"data row3 col0\" >standar deviasi</td>\n",
       "      <td id=\"T_cfc37_row3_col1\" class=\"data row3 col1\" >580.381340</td>\n",
       "    </tr>\n",
       "    <tr>\n",
       "      <th id=\"T_cfc37_level0_row4\" class=\"row_heading level0 row4\" >4</th>\n",
       "      <td id=\"T_cfc37_row4_col0\" class=\"data row4 col0\" >variansi</td>\n",
       "      <td id=\"T_cfc37_row4_col1\" class=\"data row4 col1\" >336842.500000</td>\n",
       "    </tr>\n",
       "    <tr>\n",
       "      <th id=\"T_cfc37_level0_row5\" class=\"row_heading level0 row5\" >5</th>\n",
       "      <td id=\"T_cfc37_row5_col0\" class=\"data row5 col0\" >range</td>\n",
       "      <td id=\"T_cfc37_row5_col1\" class=\"data row5 col1\" >2009</td>\n",
       "    </tr>\n",
       "    <tr>\n",
       "      <th id=\"T_cfc37_level0_row6\" class=\"row_heading level0 row6\" >6</th>\n",
       "      <td id=\"T_cfc37_row6_col0\" class=\"data row6 col0\" >minimum</td>\n",
       "      <td id=\"T_cfc37_row6_col1\" class=\"data row6 col1\" >1</td>\n",
       "    </tr>\n",
       "    <tr>\n",
       "      <th id=\"T_cfc37_level0_row7\" class=\"row_heading level0 row7\" >7</th>\n",
       "      <td id=\"T_cfc37_row7_col0\" class=\"data row7 col0\" >maksimum</td>\n",
       "      <td id=\"T_cfc37_row7_col1\" class=\"data row7 col1\" >2010</td>\n",
       "    </tr>\n",
       "    <tr>\n",
       "      <th id=\"T_cfc37_level0_row8\" class=\"row_heading level0 row8\" >8</th>\n",
       "      <td id=\"T_cfc37_row8_col0\" class=\"data row8 col0\" >kuartil 1</td>\n",
       "      <td id=\"T_cfc37_row8_col1\" class=\"data row8 col1\" >503.250000</td>\n",
       "    </tr>\n",
       "    <tr>\n",
       "      <th id=\"T_cfc37_level0_row9\" class=\"row_heading level0 row9\" >9</th>\n",
       "      <td id=\"T_cfc37_row9_col0\" class=\"data row9 col0\" >kuartil 2</td>\n",
       "      <td id=\"T_cfc37_row9_col1\" class=\"data row9 col1\" >1005.500000</td>\n",
       "    </tr>\n",
       "    <tr>\n",
       "      <th id=\"T_cfc37_level0_row10\" class=\"row_heading level0 row10\" >10</th>\n",
       "      <td id=\"T_cfc37_row10_col0\" class=\"data row10 col0\" >kuartil 3</td>\n",
       "      <td id=\"T_cfc37_row10_col1\" class=\"data row10 col1\" >1507.750000</td>\n",
       "    </tr>\n",
       "    <tr>\n",
       "      <th id=\"T_cfc37_level0_row11\" class=\"row_heading level0 row11\" >11</th>\n",
       "      <td id=\"T_cfc37_row11_col0\" class=\"data row11 col0\" >IQR</td>\n",
       "      <td id=\"T_cfc37_row11_col1\" class=\"data row11 col1\" >1004.500000</td>\n",
       "    </tr>\n",
       "    <tr>\n",
       "      <th id=\"T_cfc37_level0_row12\" class=\"row_heading level0 row12\" >12</th>\n",
       "      <td id=\"T_cfc37_row12_col0\" class=\"data row12 col0\" >skewness</td>\n",
       "      <td id=\"T_cfc37_row12_col1\" class=\"data row12 col1\" >0.000000</td>\n",
       "    </tr>\n",
       "    <tr>\n",
       "      <th id=\"T_cfc37_level0_row13\" class=\"row_heading level0 row13\" >13</th>\n",
       "      <td id=\"T_cfc37_row13_col0\" class=\"data row13 col0\" >kurtosis</td>\n",
       "      <td id=\"T_cfc37_row13_col1\" class=\"data row13 col1\" >-1.200000</td>\n",
       "    </tr>\n",
       "  </tbody>\n",
       "</table>\n"
      ],
      "text/plain": [
       "<pandas.io.formats.style.Styler at 0x25d53b79210>"
      ]
     },
     "execution_count": 39,
     "metadata": {},
     "output_type": "execute_result"
    }
   ],
   "source": [
    "nomor1('id')\n",
    "#harus coba semua"
   ]
  },
  {
   "cell_type": "code",
   "execution_count": 40,
   "metadata": {},
   "outputs": [],
   "source": [
    "def nomor2(nama):\n",
    "    df1=df[nama]\n",
    "    print(\"Histogram :\")\n",
    "    df1.plot(kind='hist',edgecolor='black', color='skyblue', title=\"Histogram \"+nama, grid=True)\n",
    "    plt.show()\n",
    "    print(\"Boxplot :\")\n",
    "    df.boxplot(column=nama)\n",
    "    plt.show()"
   ]
  },
  {
   "cell_type": "code",
   "execution_count": 41,
   "metadata": {},
   "outputs": [
    {
     "name": "stdout",
     "output_type": "stream",
     "text": [
      "Histogram :\n"
     ]
    },
    {
     "data": {
      "image/png": "[encoded data removed]",
      "text/plain": [
       "<Figure size 432x288 with 1 Axes>"
      ]
     },
     "metadata": {
      "needs_background": "light"
     },
     "output_type": "display_data"
    },
    {
     "name": "stdout",
     "output_type": "stream",
     "text": [
      "Boxplot :\n"
     ]
    },
    {
     "data": {
      "image/png": "[encoded data removed]",
      "text/plain": [
       "<Figure size 432x288 with 1 Axes>"
      ]
     },
     "metadata": {
      "needs_background": "light"
     },
     "output_type": "display_data"
    }
   ],
   "source": [
    "nomor2('id')\n",
    "#harus coba semua"
   ]
  },
  {
   "cell_type": "code",
   "execution_count": 42,
   "metadata": {},
   "outputs": [],
   "source": [
    "def normality_test(nama):\n",
    "    statistic, p_val = stats.normaltest(df[nama])\n",
    "    print(\"Nilai P : \"+str(p_val))\n",
    "    alpha = 0.05\n",
    "    # jika p-value > alpha, maka distribusi normal\n",
    "    print(\"Kolom \"+nama,end=' ')\n",
    "    if p_val > alpha:\n",
    "        print(\"berdistribusi normal.\")\n",
    "    else:\n",
    "        print(\"tidak berdistribusi normal.\")"
   ]
  },
  {
   "cell_type": "code",
   "execution_count": 43,
   "metadata": {},
   "outputs": [
    {
     "name": "stdout",
     "output_type": "stream",
     "text": [
      "Nilai P : 2.6514813346797777e-05\n",
      "Kolom pH tidak berdistribusi normal.\n"
     ]
    }
   ],
   "source": [
    "normality_test('pH')\n",
    "#harus coba semua"
   ]
  },
  {
   "cell_type": "code",
   "execution_count": 44,
   "metadata": {},
   "outputs": [
    {
     "name": "stdout",
     "output_type": "stream",
     "text": [
      "Nilai uji statistik : 2.485445147379887\n",
      "Nilai P : 0.006509872359240925\n",
      "Berdasarkan uji hipotesis menggunakan P-value,\n",
      "maka hipotesis nol H0 DITOLAK\n"
     ]
    },
    {
     "data": {
      "image/png": "[encoded data removed]",
      "text/plain": [
       "<Figure size 432x288 with 1 Axes>"
      ]
     },
     "metadata": {
      "needs_background": "light"
     },
     "output_type": "display_data"
    }
   ],
   "source": [
    "# nomor 4a\n",
    "#b. Nilai Rata-rata Hardness tidak sama dengan 205?\n",
    "#c. Nilai Rata-rata 100 baris pertama kolom Solids bukan 21900?\n",
    "#d. Proporsi nilai Conductivity yang lebih dari 450, adalah tidak sama dengan 10%?\n",
    "#e. Proporsi nilai Trihalomethanes yang kurang dari 40, adalah kurang dari 5%?\n",
    "# Sampel yang diambil adalah seluruh populasinya.\n",
    "# a. Nilai Rata-Rata pH di atas 7?\n",
    "df1 = df[\"pH\"]\n",
    "# 1. Tentukan Hipotesis Nol, H0 : mean = 7\n",
    "# 2. Tentukan Hipotesis Alternatif, H1 : mean > 7\n",
    "# 3. Tentukan tingkat signifikansi alfa\n",
    "alfa = 0.05\n",
    "# 4. Tentukan uji statistik yang sesuai dan tentukan daerah kritis\n",
    "# Daerah kritis hipotesis alternatif ada di sebelah kanan nilai kritis\n",
    "# uji T test dan mencari p_value\n",
    "# 5. Hitung nilai uji statistik dari data sample. Hitung p-value sesuai dengan uji statistik yang digunakan.\n",
    "stat, p_value = stats.ttest_1samp(df1, 7)\n",
    "# Karena ttest_1samp secara default merupakan two-sided, maka p_value dibagi 2\n",
    "p_value /= 2\n",
    "print(\"Nilai uji statistik :\",stat)\n",
    "print(\"Nilai P :\",p_value)\n",
    "# 6. Ambil keputusan tolak atau terima, berdasarkan p-value\n",
    "print(\"Berdasarkan uji hipotesis menggunakan P-value,\\nmaka hipotesis nol H0\",end=' ')\n",
    "if (p_value < alfa):\n",
    "  print(\"DITOLAK\")\n",
    "else:\n",
    "  print(\"TIDAK DITOLAK\")\n",
    "\n",
    "df.boxplot(column=\"pH\")\n",
    "plt.show()"
   ]
  },
  {
   "cell_type": "code",
   "execution_count": 45,
   "metadata": {},
   "outputs": [
    {
     "name": "stdout",
     "output_type": "stream",
     "text": [
      "   α =  0.05\n",
      "   Didapatkan daerah kritis z > 1.959963984540054 atau z < -1.959963984540054\n",
      "   Digunakan uji statistik z\n",
      "   p value =  2.5128904895144654e-35\n",
      "   z value =  -12.403137170010732\n",
      "6. Ambil keputusan apakah H0 ditolak atau tidak\n",
      "   H0 ditolak karena nilai ztest berada pada daerah kritis\n",
      "   H0 ditolak karena p value lebih kecil dari nilai signifikan\n",
      "Boxplot:\n"
     ]
    },
    {
     "data": {
      "image/png": "[encoded data removed]",
      "text/plain": [
       "<Figure size 432x288 with 1 Axes>"
      ]
     },
     "metadata": {
      "needs_background": "light"
     },
     "output_type": "display_data"
    }
   ],
   "source": [
    "# nomor 4b\n",
    "# Sampel yang diambil adalah seluruh populasinya.\n",
    "#b. Nilai Rata-rata Hardness tidak sama dengan 205?\n",
    "#(\"Enam langkah testing:\")\n",
    "#(\"1. Tentukan hipotesis nol atau H0\")\n",
    "#(\"   H0: μ = 116\")\n",
    "#(\"2. Tentukan hipotesis alternatif atau H1\")\n",
    "#(\"   H1: μ != 116\")\n",
    "#(\"3. Tentukan tingkat signifikan α\")\n",
    "alfa = 0.05\n",
    "print(\"   α = \", alfa)\n",
    "#4. Tentukan uji statistik yang sesuai dan tentukan daerah kritis\")\n",
    "daerahKritis = stats.norm.ppf(1-(alfa/2))\n",
    "print(\"   Didapatkan daerah kritis z > \"+str(daerahKritis)+\" atau z < -\"+str(daerahKritis))\n",
    "print(\"   Digunakan uji statistik z\")\n",
    "#print(\"5. Hitung uji nilai statistik dari data sample\")\n",
    "ztest ,pval = stests.ztest(df[\"Hardness\"], x2=None, value=205)\n",
    "print(\"   p value = \", float(pval))\n",
    "print(\"   z value = \", ztest)\n",
    "print(\"6. Ambil keputusan apakah H0 ditolak atau tidak\")\n",
    "if (ztest > daerahKritis or ztest < -daerahKritis):\n",
    "    print(\"   H0 ditolak karena nilai ztest berada pada daerah kritis\")\n",
    "else:\n",
    "    print(\"   H0 diterima karena nilai ztest tidak berada pada daerah kritis\")\n",
    "if (pval < 0.05):\n",
    "    print(\"   H0 ditolak karena p value lebih kecil dari nilai signifikan\")\n",
    "else:\n",
    "    print(\"   H0 diterima karena p value lebih besar dari nilai signifikan\")\n",
    "print(\"Boxplot:\")\n",
    "%matplotlib inline\n",
    "boxplot = df.boxplot(column=[\"Hardness\"])"
   ]
  },
  {
   "cell_type": "code",
   "execution_count": 46,
   "metadata": {},
   "outputs": [],
   "source": [
    "#c. Nilai Rata-rata 100 baris pertama kolom Solids bukan 21900?\n",
    "#langkah sama kaya no 4a"
   ]
  },
  {
   "cell_type": "code",
   "execution_count": 47,
   "metadata": {},
   "outputs": [],
   "source": [
    "#d. Proporsi nilai Conductivity yang lebih dari 450, adalah tidak sama dengan 10%?\n",
    "#langkah sama kaya no 4a"
   ]
  },
  {
   "cell_type": "code",
   "execution_count": 48,
   "metadata": {},
   "outputs": [],
   "source": [
    "#e. Proporsi nilai Trihalomethanes yang kurang dari 40, adalah kurang dari 5%?\n",
    "#langkah sama kaya no 4a"
   ]
  },
  {
   "cell_type": "code",
   "execution_count": 51,
   "metadata": {},
   "outputs": [
    {
     "name": "stdout",
     "output_type": "stream",
     "text": [
      "Plot data awal Sulfate:\n"
     ]
    },
    {
     "data": {
      "image/png": "[encoded data removed]",
      "text/plain": [
       "<Figure size 432x288 with 1 Axes>"
      ]
     },
     "metadata": {
      "needs_background": "light"
     },
     "output_type": "display_data"
    },
    {
     "name": "stdout",
     "output_type": "stream",
     "text": [
      "Plot data akhir Sulfate:\n"
     ]
    },
    {
     "data": {
      "image/png": "[encoded data removed]",
      "text/plain": [
       "<Figure size 432x288 with 1 Axes>"
      ]
     },
     "metadata": {
      "needs_background": "light"
     },
     "output_type": "display_data"
    },
    {
     "name": "stdout",
     "output_type": "stream",
     "text": [
      "Nilai uji statistik:  -2.1177172044750745\n",
      "P value:  0.034444306652381386\n",
      "Daerah kritis diantara  -1.646372735186523  dan  1.6463727351865223\n",
      "\n",
      "Kesimpulan:\n",
      "H0 ditolak\n"
     ]
    }
   ],
   "source": [
    "#nomor 5\n",
    "\"\"\"\n",
    "Melakukan test hipotesis 2 sampel, dengan menuliskan 6 langkah testing dan menampilkan\n",
    "juga boxplotnya untuk kolom/bagian yang bersesuaian.\n",
    "a. Data kolom Sulfate dibagi 2 sama rata: bagian awal dan bagian akhir kolom. Benarkah\n",
    "rata-rata kedua bagian tersebut sama?\n",
    "\"\"\"\n",
    "alpha = 0.05\n",
    "\n",
    "# data bagian awal\n",
    "df1 = df['Sulfate'][:1005]\n",
    "# data bagian akhir\n",
    "df2 = df['Sulfate'][1005:]\n",
    "\n",
    "# plot data\n",
    "print('Plot data awal Sulfate:')\n",
    "df1.plot.box()\n",
    "plt.show()\n",
    "print('Plot data akhir Sulfate:')\n",
    "df2.plot.box()\n",
    "plt.show()\n",
    "\n",
    "# uji statistik (t test)\n",
    "tstat, pval = stats.ttest_rel(df1, df2)\n",
    "print('Nilai uji statistik: ', tstat)\n",
    "\n",
    "# P value\n",
    "print('P value: ', pval)\n",
    "\n",
    "# Daerah kritis\n",
    "x = stats.t.ppf(alpha, len(df1)-1)\n",
    "y = stats.t.ppf(1-alpha, len(df2)-1)\n",
    "print('Daerah kritis diantara ', x, ' dan ', y)\n",
    "\n",
    "# Kesimpulan\n",
    "print('\\nKesimpulan:')\n",
    "if (alpha > pval):\n",
    "    print('H0 ditolak')\n",
    "else:\n",
    "    print('H0 tidak ditolak')\n",
    "\n",
    "\n",
    "\n"
   ]
  },
  {
   "cell_type": "code",
   "execution_count": 52,
   "metadata": {},
   "outputs": [
    {
     "name": "stdout",
     "output_type": "stream",
     "text": [
      "Plot data awal OrganicCarbon:\n"
     ]
    },
    {
     "data": {
      "image/png": "[encoded data removed]",
      "text/plain": [
       "<Figure size 432x288 with 1 Axes>"
      ]
     },
     "metadata": {
      "needs_background": "light"
     },
     "output_type": "display_data"
    },
    {
     "name": "stdout",
     "output_type": "stream",
     "text": [
      "Plot data akhir OrganicCarbon:\n"
     ]
    },
    {
     "data": {
      "image/png": "[encoded data removed]",
      "text/plain": [
       "<Figure size 432x288 with 1 Axes>"
      ]
     },
     "metadata": {
      "needs_background": "light"
     },
     "output_type": "display_data"
    },
    {
     "name": "stdout",
     "output_type": "stream",
     "text": [
      "Nilai uji statistik:  -2.413145517798807\n",
      "P value:  0.01581550381760006\n",
      "Daerah kritis pada z > z(0.05) atau z < -z(0.05)\n",
      "\n",
      "Kesimpulan:\n",
      "H0 tidak ditolak\n"
     ]
    }
   ],
   "source": [
    "\"\"\"\n",
    "b. Data kolom OrganicCarbon dibagi 2 sama rata: bagian awal dan bagian akhir kolom.\n",
    "Benarkah rata-rata bagian awal lebih besar dari pada bagian akhir sebesar 0.15?\n",
    "\"\"\"\n",
    "alpha = 0.05\n",
    "\n",
    "# data bagian awal\n",
    "df1 = df['OrganicCarbon'][:1005]\n",
    "# data bagian akhir\n",
    "df2 = df['OrganicCarbon'][1005:]\n",
    "\n",
    "# plot data\n",
    "print('Plot data awal OrganicCarbon:')\n",
    "df1.plot.box()\n",
    "plt.show()\n",
    "print('Plot data akhir OrganicCarbon:')\n",
    "df2.plot.box()\n",
    "plt.show()\n",
    "\n",
    "# uji statistik (test z)\n",
    "ztest, pval = stests.ztest(df1, x2=df2, value=0.15, alternative='two-sided')\n",
    "print('Nilai uji statistik: ', ztest)\n",
    "\n",
    "# P value\n",
    "print('P value: ', pval)\n",
    "\n",
    "# Daerah kritis\n",
    "print('Daerah kritis pada z > z(0.05) atau z < -z(0.05)')\n",
    "\n",
    "# Kesimpulan\n",
    "print('\\nKesimpulan:')\n",
    "if (pval < alpha):\n",
    "    print('H0 ditolak')\n",
    "else:\n",
    "    print('H0 tidak ditolak')\n",
    "\n"
   ]
  },
  {
   "cell_type": "code",
   "execution_count": 3,
   "metadata": {},
   "outputs": [
    {
     "name": "stdout",
     "output_type": "stream",
     "text": [
      "Plot data awal Chloramines:\n"
     ]
    },
    {
     "data": {
      "image/png": "[encoded data removed]",
      "text/plain": [
       "<Figure size 432x288 with 1 Axes>"
      ]
     },
     "metadata": {
      "needs_background": "light"
     },
     "output_type": "display_data"
    },
    {
     "name": "stdout",
     "output_type": "stream",
     "text": [
      "Plot data akhir Chloramines:\n"
     ]
    },
    {
     "data": {
      "image/png": "[encoded data removed]",
      "text/plain": [
       "<Figure size 432x288 with 1 Axes>"
      ]
     },
     "metadata": {
      "needs_background": "light"
     },
     "output_type": "display_data"
    },
    {
     "name": "stdout",
     "output_type": "stream",
     "text": [
      "Nilai uji statistik:  -0.6683369073842939\n",
      "P value:  0.5054738364553271\n",
      "Daerah kritis diantara  -1.6603911559963902  dan  1.6603911559963895\n",
      "\n",
      "Kesimpulan:\n",
      "H0 tidak ditolak\n"
     ]
    }
   ],
   "source": [
    "\"\"\"\n",
    "c. Rata-rata 100 baris pertama kolom Chloramines sama dengan 100 baris terakhirnya?\n",
    "\"\"\"\n",
    "alpha = 0.05\n",
    "\n",
    "# data bagian awal\n",
    "df1 = df['Chloramines'][:100]\n",
    "# data bagian akhir\n",
    "df2 = df['Chloramines'][1910:2010]\n",
    "\n",
    "# plot data\n",
    "print('Plot data awal Chloramines:')\n",
    "df1.plot.box()\n",
    "plt.show()\n",
    "print('Plot data akhir Chloramines:')\n",
    "df2.plot.box()\n",
    "plt.show()\n",
    "\n",
    "# uji statistik (t test)\n",
    "tstat, pval = stats.ttest_rel(df1, df2)\n",
    "print('Nilai uji statistik: ', tstat)\n",
    "\n",
    "# P value\n",
    "print('P value: ', pval)\n",
    "\n",
    "# Daerah kritis\n",
    "x = stats.t.ppf(alpha, len(df1)-1)\n",
    "y = stats.t.ppf(1-alpha, len(df2)-1)\n",
    "print('Daerah kritis diantara ', x, ' dan ', y)\n",
    "\n",
    "# Kesimpulan\n",
    "print('\\nKesimpulan:')\n",
    "if (alpha > pval):\n",
    "    print('H0 ditolak')\n",
    "else:\n",
    "    print('H0 tidak ditolak')"
   ]
  },
  {
   "cell_type": "code",
   "execution_count": 33,
   "metadata": {},
   "outputs": [
    {
     "name": "stdout",
     "output_type": "stream",
     "text": [
      "Plot data awal Turbidity:\n"
     ]
    },
    {
     "data": {
      "image/png": "[encoded data removed]",
      "text/plain": [
       "<Figure size 432x288 with 1 Axes>"
      ]
     },
     "metadata": {
      "needs_background": "light"
     },
     "output_type": "display_data"
    },
    {
     "name": "stdout",
     "output_type": "stream",
     "text": [
      "Plot data akhir Turbidity:\n"
     ]
    },
    {
     "data": {
      "image/png": "[encoded data removed]",
      "text/plain": [
       "<Figure size 432x288 with 1 Axes>"
      ]
     },
     "metadata": {
      "needs_background": "light"
     },
     "output_type": "display_data"
    },
    {
     "name": "stdout",
     "output_type": "stream",
     "text": [
      "Nilai uji statistik:  -0.13388958661778735\n",
      "Daerah kritis terletak pada z >  1.6448536269514722\n",
      "\n",
      "Kesimpulan:\n",
      "H0 tidak ditolak\n"
     ]
    }
   ],
   "source": [
    "\"\"\"\n",
    "d. Proporsi nilai bagian awal Turbidity yang lebih dari 4, adalah lebih besar daripada,\n",
    "proporsi nilai yang sama di bagian akhir Turbidity ?\n",
    "\"\"\"\n",
    "\n",
    "\n",
    "# nilai tingkat signifikan\n",
    "alpha = 0.05\n",
    "\n",
    "# data bagian awal\n",
    "bagatas = df['Turbidity'][:1005][df['Turbidity'] > 4]\n",
    "# data bagian akhir\n",
    "bagbawah = df['Turbidity'][1005:][df['Turbidity'] > 4]\n",
    "\n",
    "# plot data\n",
    "print('Plot data awal Turbidity:')\n",
    "bagatas.plot.box()\n",
    "plt.show()\n",
    "print('Plot data akhir Turbidity:')\n",
    "bagbawah.plot.box()\n",
    "plt.show()\n",
    "\n",
    "# jumlah data awal dan akhir Turbidity\n",
    "nr1 = 1005\n",
    "nr2 = 1005\n",
    "\n",
    "# uji statistik (test z)\n",
    "p1 = len(bagatas)/nr1\n",
    "p2 = len(bagbawah)/nr2\n",
    "p = (len(bagatas) + len(bagbawah))/(nr1+nr2)\n",
    "q = 1-p\n",
    "\n",
    "z = (p1-p2)/math.sqrt(p*q*(1/nr1 + 1/nr2))\n",
    "\n",
    "print('Nilai uji statistik: ', z)\n",
    "\n",
    "# Daerah kritis\n",
    "zkritis = stats.norm.ppf(1-alpha)\n",
    "print('Daerah kritis terletak pada z > ', zkritis)\n",
    "\n",
    "# Kesimpulan\n",
    "print('\\nKesimpulan:')\n",
    "if (z > zkritis):\n",
    "    print('H0 ditolak')\n",
    "else:\n",
    "    print('H0 tidak ditolak')\n"
   ]
  },
  {
   "cell_type": "code",
   "execution_count": 37,
   "metadata": {},
   "outputs": [
    {
     "name": "stdout",
     "output_type": "stream",
     "text": [
      "Plot data awal Sulfate:\n"
     ]
    },
    {
     "data": {
      "image/png": "[encoded data removed]",
      "text/plain": [
       "<Figure size 432x288 with 1 Axes>"
      ]
     },
     "metadata": {
      "needs_background": "light"
     },
     "output_type": "display_data"
    },
    {
     "name": "stdout",
     "output_type": "stream",
     "text": [
      "Plot data akhir Sulfate:\n"
     ]
    },
    {
     "data": {
      "image/png": "[encoded data removed]",
      "text/plain": [
       "<Figure size 432x288 with 1 Axes>"
      ]
     },
     "metadata": {
      "needs_background": "light"
     },
     "output_type": "display_data"
    },
    {
     "name": "stdout",
     "output_type": "stream",
     "text": [
      "Variance data awal Sulfate:  1708.3966020772502\n",
      "Variance data akhir Sulfate:  1682.7330644425087\n",
      "Nilai uji statistik:  1.0152511043950063\n",
      "P value:  0.40526664801745826\n",
      "f memiliki daerah kritis pada f >  1.1317692392568777  dan f <  0.883572344355818\n",
      "\n",
      "Kesimpulan:\n",
      "H0 tidak ditolak\n"
     ]
    }
   ],
   "source": [
    "\"\"\"\n",
    "e. Bagian awal kolom Sulfate memiliki variansi yang sama dengan bagian akhirnya?\n",
    "\"\"\"\n",
    "\n",
    "# H0 = var1 = var2\n",
    "# H1 = var1 != var2\n",
    "\n",
    "# nilai tingkat signifikan\n",
    "alpha = 0.05\n",
    "\n",
    "# Data bagian awal\n",
    "df1 = df['Sulfate'][:1005]\n",
    "# Data bagian akhir\n",
    "df2 = df['Sulfate'][1005:]\n",
    "\n",
    "# Plot data\n",
    "print('Plot data awal Sulfate:')\n",
    "df1.plot.box()\n",
    "plt.show()\n",
    "print('Plot data akhir Sulfate:')\n",
    "df2.plot.box()\n",
    "plt.show()\n",
    "\n",
    "# degrees of freedom\n",
    "dfn = len(df1)-1\n",
    "dfd = len(df2)-1\n",
    "\n",
    "# Variance dari data awal dan akhir\n",
    "var1 = df1.var(ddof=1)\n",
    "var2 = df2.var(ddof=1)\n",
    "print('Variance data awal Sulfate: ', var1)\n",
    "print('Variance data akhir Sulfate: ', var2)\n",
    "\n",
    "# Uji statistik (test f)\n",
    "f = var1/var2\n",
    "print('Nilai uji statistik: ', f)\n",
    "\n",
    "# P Value\n",
    "f_pval = 1-stats.f.cdf(f, dfn, dfd)\n",
    "print('P value: ', f_pval)\n",
    "\n",
    "# Daerah kritis\n",
    "fkritis1 = stats.f(dfn, dfd).ppf(1-alpha/2)\n",
    "fkritis2 = stats.f(dfn, dfd).ppf(alpha/2)\n",
    "print('f memiliki daerah kritis pada f > ', fkritis1, ' dan f < ', fkritis2)\n",
    "\n",
    "# Kesimpulan\n",
    "print('\\nKesimpulan:')\n",
    "if (f > fkritis1 or f < fkritis2):\n",
    "    print('H0 ditolak')\n",
    "else:\n",
    "    print('H0 tidak ditolak')"
   ]
  },
  {
   "cell_type": "code",
   "execution_count": 58,
   "metadata": {},
   "outputs": [],
   "source": [
    "#nomor 6\n",
    "#Test korelasi: tentukan apakah setiap kolom non-target berkorelasi dengan kolom target,\n",
    "#dengan menggambarkan juga scatter plot nya. Gunakan correlation test\n",
    "def nomor6(nama):\n",
    "    df.plot(kind='scatter', x=nama, y=\"Potability\", color=\"blue\")\n",
    "    plt.show()\n",
    "    df1 = df[nama]\n",
    "    cor = df1.corr(method='pearson', other=df[\"Potability\"])\n",
    "    print(\"Koefisien Korelasi Pearson dari \"+nama+\" : \"+str(cor))\n",
    "    print(\"Korelasi antara kolom \"+nama+\" dan kolom Potability adalah\",end=' ')\n",
    "    if 0 < cor < 1:\n",
    "        print(\"positive correlation.\")\n",
    "    elif -1 < cor < 0:\n",
    "        print(\"negative correlation.\")\n",
    "    elif cor == 1:\n",
    "        print(\"perfect positive correlation.\")\n",
    "    elif cor == -1:\n",
    "        print(\"perfect negative correlation.\")\n",
    "    elif cor == 0:\n",
    "        print(\"tidak memiliki correlation.\")\n",
    "    else: # cor diluar -1 <= cor <= 1\n",
    "        print(\"error.\")\n"
   ]
  },
  {
   "cell_type": "code",
   "execution_count": 59,
   "metadata": {},
   "outputs": [
    {
     "data": {
      "image/png": "[encoded data removed]",
      "text/plain": [
       "<Figure size 432x288 with 1 Axes>"
      ]
     },
     "metadata": {
      "needs_background": "light"
     },
     "output_type": "display_data"
    },
    {
     "name": "stdout",
     "output_type": "stream",
     "text": [
      "Koefisien Korelasi Pearson dari Chloramines : nan\n",
      "Korelasi antara kolom Chloramines dan kolom Potability adalah error.\n"
     ]
    }
   ],
   "source": [
    "nomor6('Chloramines')"
   ]
  },
  {
   "cell_type": "code",
   "execution_count": null,
   "metadata": {},
   "outputs": [],
   "source": []
  }
 ],
 "metadata": {
  "kernelspec": {
   "display_name": "Python 3 (ipykernel)",
   "language": "python",
   "name": "python3"
  },
  "language_info": {
   "codemirror_mode": {
    "name": "ipython",
    "version": 3
   },
   "file_extension": ".py",
   "mimetype": "text/x-python",
   "name": "python",
   "nbconvert_exporter": "python",
   "pygments_lexer": "ipython3",
   "version": "3.10.0"
  }
 },
 "nbformat": 4,
 "nbformat_minor": 4
}
